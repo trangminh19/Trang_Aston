{
 "cells": [
  {
   "cell_type": "code",
   "execution_count": 3,
   "metadata": {},
   "outputs": [],
   "source": [
    "# 2020 and 2019\n",
    "import pandas as pd\n",
    "import seaborn as sns\n",
    "import numpy as np\n",
    "import matplotlib.pyplot as plt\n",
    "df = pd.read_csv('Kickstarter_final_ver_2.csv')"
   ]
  },
  {
   "cell_type": "code",
   "execution_count": 4,
   "metadata": {},
   "outputs": [
    {
     "data": {
      "text/html": [
       "<div>\n",
       "<style scoped>\n",
       "    .dataframe tbody tr th:only-of-type {\n",
       "        vertical-align: middle;\n",
       "    }\n",
       "\n",
       "    .dataframe tbody tr th {\n",
       "        vertical-align: top;\n",
       "    }\n",
       "\n",
       "    .dataframe thead th {\n",
       "        text-align: right;\n",
       "    }\n",
       "</style>\n",
       "<table border=\"1\" class=\"dataframe\">\n",
       "  <thead>\n",
       "    <tr style=\"text-align: right;\">\n",
       "      <th></th>\n",
       "      <th>Unnamed: 0</th>\n",
       "      <th>backers_count</th>\n",
       "      <th>blurb</th>\n",
       "      <th>country</th>\n",
       "      <th>current_currency</th>\n",
       "      <th>disable_communication</th>\n",
       "      <th>fx_rate</th>\n",
       "      <th>id</th>\n",
       "      <th>is_starrable</th>\n",
       "      <th>name</th>\n",
       "      <th>...</th>\n",
       "      <th>blurb_length</th>\n",
       "      <th>blurb_caps</th>\n",
       "      <th>name_length</th>\n",
       "      <th>name_caps</th>\n",
       "      <th>repeat_creator</th>\n",
       "      <th>overarching_category</th>\n",
       "      <th>page_position</th>\n",
       "      <th>goal_reached</th>\n",
       "      <th>Month</th>\n",
       "      <th>Year</th>\n",
       "    </tr>\n",
       "  </thead>\n",
       "  <tbody>\n",
       "    <tr>\n",
       "      <th>0</th>\n",
       "      <td>6901</td>\n",
       "      <td>2</td>\n",
       "      <td>Lets provide Cape Verde with the same activiti...</td>\n",
       "      <td>NL</td>\n",
       "      <td>USD</td>\n",
       "      <td>0</td>\n",
       "      <td>1.113333</td>\n",
       "      <td>1085396042</td>\n",
       "      <td>0</td>\n",
       "      <td>A brand new fast food &amp; entertainment chain in...</td>\n",
       "      <td>...</td>\n",
       "      <td>121.0</td>\n",
       "      <td>3</td>\n",
       "      <td>58</td>\n",
       "      <td>3</td>\n",
       "      <td>0</td>\n",
       "      <td>food</td>\n",
       "      <td>9</td>\n",
       "      <td>0.0</td>\n",
       "      <td>1</td>\n",
       "      <td>2020</td>\n",
       "    </tr>\n",
       "    <tr>\n",
       "      <th>1</th>\n",
       "      <td>10734</td>\n",
       "      <td>67</td>\n",
       "      <td>Mobile Application and Online Community addres...</td>\n",
       "      <td>US</td>\n",
       "      <td>USD</td>\n",
       "      <td>0</td>\n",
       "      <td>1.000000</td>\n",
       "      <td>601978488</td>\n",
       "      <td>0</td>\n",
       "      <td>RIDME</td>\n",
       "      <td>...</td>\n",
       "      <td>88.0</td>\n",
       "      <td>4</td>\n",
       "      <td>5</td>\n",
       "      <td>5</td>\n",
       "      <td>0</td>\n",
       "      <td>fashion</td>\n",
       "      <td>2</td>\n",
       "      <td>0.0</td>\n",
       "      <td>1</td>\n",
       "      <td>2020</td>\n",
       "    </tr>\n",
       "    <tr>\n",
       "      <th>2</th>\n",
       "      <td>14508</td>\n",
       "      <td>43</td>\n",
       "      <td>The Rising of the Shield Hero Enamel Pins</td>\n",
       "      <td>US</td>\n",
       "      <td>USD</td>\n",
       "      <td>0</td>\n",
       "      <td>1.000000</td>\n",
       "      <td>131421780</td>\n",
       "      <td>0</td>\n",
       "      <td>Unforeseen Heroes</td>\n",
       "      <td>...</td>\n",
       "      <td>41.0</td>\n",
       "      <td>6</td>\n",
       "      <td>17</td>\n",
       "      <td>2</td>\n",
       "      <td>0</td>\n",
       "      <td>art</td>\n",
       "      <td>1</td>\n",
       "      <td>1.0</td>\n",
       "      <td>1</td>\n",
       "      <td>2020</td>\n",
       "    </tr>\n",
       "    <tr>\n",
       "      <th>3</th>\n",
       "      <td>15109</td>\n",
       "      <td>35</td>\n",
       "      <td>Get your DADSIE on!! Overalls one minute, hand...</td>\n",
       "      <td>AU</td>\n",
       "      <td>USD</td>\n",
       "      <td>0</td>\n",
       "      <td>0.689825</td>\n",
       "      <td>986098168</td>\n",
       "      <td>0</td>\n",
       "      <td>the DADSIE</td>\n",
       "      <td>...</td>\n",
       "      <td>63.0</td>\n",
       "      <td>8</td>\n",
       "      <td>10</td>\n",
       "      <td>6</td>\n",
       "      <td>0</td>\n",
       "      <td>fashion</td>\n",
       "      <td>2</td>\n",
       "      <td>0.0</td>\n",
       "      <td>1</td>\n",
       "      <td>2020</td>\n",
       "    </tr>\n",
       "    <tr>\n",
       "      <th>4</th>\n",
       "      <td>23703</td>\n",
       "      <td>276</td>\n",
       "      <td>The Cryptid Collection is an Enamel Pin Series...</td>\n",
       "      <td>US</td>\n",
       "      <td>USD</td>\n",
       "      <td>0</td>\n",
       "      <td>1.000000</td>\n",
       "      <td>794850079</td>\n",
       "      <td>0</td>\n",
       "      <td>Cryptid Collection 2019</td>\n",
       "      <td>...</td>\n",
       "      <td>81.0</td>\n",
       "      <td>8</td>\n",
       "      <td>23</td>\n",
       "      <td>2</td>\n",
       "      <td>0</td>\n",
       "      <td>art</td>\n",
       "      <td>1</td>\n",
       "      <td>1.0</td>\n",
       "      <td>1</td>\n",
       "      <td>2020</td>\n",
       "    </tr>\n",
       "    <tr>\n",
       "      <th>...</th>\n",
       "      <td>...</td>\n",
       "      <td>...</td>\n",
       "      <td>...</td>\n",
       "      <td>...</td>\n",
       "      <td>...</td>\n",
       "      <td>...</td>\n",
       "      <td>...</td>\n",
       "      <td>...</td>\n",
       "      <td>...</td>\n",
       "      <td>...</td>\n",
       "      <td>...</td>\n",
       "      <td>...</td>\n",
       "      <td>...</td>\n",
       "      <td>...</td>\n",
       "      <td>...</td>\n",
       "      <td>...</td>\n",
       "      <td>...</td>\n",
       "      <td>...</td>\n",
       "      <td>...</td>\n",
       "      <td>...</td>\n",
       "      <td>...</td>\n",
       "    </tr>\n",
       "    <tr>\n",
       "      <th>215653</th>\n",
       "      <td>2020629</td>\n",
       "      <td>55</td>\n",
       "      <td>In 2016 I made a critter a day for the ENTIRE ...</td>\n",
       "      <td>US</td>\n",
       "      <td>USD</td>\n",
       "      <td>0</td>\n",
       "      <td>1.000000</td>\n",
       "      <td>1305740682</td>\n",
       "      <td>0</td>\n",
       "      <td>Help This Calendar Full of Critters Come to Life!</td>\n",
       "      <td>...</td>\n",
       "      <td>131.0</td>\n",
       "      <td>11</td>\n",
       "      <td>49</td>\n",
       "      <td>7</td>\n",
       "      <td>0</td>\n",
       "      <td>publishing</td>\n",
       "      <td>4</td>\n",
       "      <td>1.0</td>\n",
       "      <td>12</td>\n",
       "      <td>2019</td>\n",
       "    </tr>\n",
       "    <tr>\n",
       "      <th>215654</th>\n",
       "      <td>2020630</td>\n",
       "      <td>3559</td>\n",
       "      <td>Atmospheric single-player/co-op RPG set in a \"...</td>\n",
       "      <td>US</td>\n",
       "      <td>USD</td>\n",
       "      <td>0</td>\n",
       "      <td>1.000000</td>\n",
       "      <td>700452989</td>\n",
       "      <td>0</td>\n",
       "      <td>InSomnia - An RPG Set in a Brutal Dieselpunk U...</td>\n",
       "      <td>...</td>\n",
       "      <td>105.0</td>\n",
       "      <td>4</td>\n",
       "      <td>53</td>\n",
       "      <td>10</td>\n",
       "      <td>1</td>\n",
       "      <td>games</td>\n",
       "      <td>7</td>\n",
       "      <td>1.0</td>\n",
       "      <td>12</td>\n",
       "      <td>2019</td>\n",
       "    </tr>\n",
       "    <tr>\n",
       "      <th>215655</th>\n",
       "      <td>2020631</td>\n",
       "      <td>44</td>\n",
       "      <td>Seymour Barab is one of America's most inventi...</td>\n",
       "      <td>US</td>\n",
       "      <td>USD</td>\n",
       "      <td>0</td>\n",
       "      <td>1.000000</td>\n",
       "      <td>683017924</td>\n",
       "      <td>0</td>\n",
       "      <td>Recording Barab's Bawd Ballads: a double debut</td>\n",
       "      <td>...</td>\n",
       "      <td>135.0</td>\n",
       "      <td>4</td>\n",
       "      <td>46</td>\n",
       "      <td>4</td>\n",
       "      <td>0</td>\n",
       "      <td>music</td>\n",
       "      <td>3</td>\n",
       "      <td>1.0</td>\n",
       "      <td>12</td>\n",
       "      <td>2019</td>\n",
       "    </tr>\n",
       "    <tr>\n",
       "      <th>215656</th>\n",
       "      <td>2020632</td>\n",
       "      <td>17</td>\n",
       "      <td>PIGBOYS, the photobook series featuring handso...</td>\n",
       "      <td>US</td>\n",
       "      <td>USD</td>\n",
       "      <td>0</td>\n",
       "      <td>1.000000</td>\n",
       "      <td>171527222</td>\n",
       "      <td>0</td>\n",
       "      <td>PIGBOYS: All 3 Books!</td>\n",
       "      <td>...</td>\n",
       "      <td>134.0</td>\n",
       "      <td>7</td>\n",
       "      <td>21</td>\n",
       "      <td>9</td>\n",
       "      <td>0</td>\n",
       "      <td>photography</td>\n",
       "      <td>5</td>\n",
       "      <td>1.0</td>\n",
       "      <td>12</td>\n",
       "      <td>2019</td>\n",
       "    </tr>\n",
       "    <tr>\n",
       "      <th>215657</th>\n",
       "      <td>2020633</td>\n",
       "      <td>5</td>\n",
       "      <td>Born in 1985 NE England meant I was part of a ...</td>\n",
       "      <td>GB</td>\n",
       "      <td>USD</td>\n",
       "      <td>0</td>\n",
       "      <td>1.313810</td>\n",
       "      <td>663594376</td>\n",
       "      <td>0</td>\n",
       "      <td>A Miner's Son</td>\n",
       "      <td>...</td>\n",
       "      <td>135.0</td>\n",
       "      <td>5</td>\n",
       "      <td>13</td>\n",
       "      <td>3</td>\n",
       "      <td>0</td>\n",
       "      <td>photography</td>\n",
       "      <td>5</td>\n",
       "      <td>0.0</td>\n",
       "      <td>12</td>\n",
       "      <td>2019</td>\n",
       "    </tr>\n",
       "  </tbody>\n",
       "</table>\n",
       "<p>215658 rows × 24 columns</p>\n",
       "</div>"
      ],
      "text/plain": [
       "        Unnamed: 0  backers_count  \\\n",
       "0             6901              2   \n",
       "1            10734             67   \n",
       "2            14508             43   \n",
       "3            15109             35   \n",
       "4            23703            276   \n",
       "...            ...            ...   \n",
       "215653     2020629             55   \n",
       "215654     2020630           3559   \n",
       "215655     2020631             44   \n",
       "215656     2020632             17   \n",
       "215657     2020633              5   \n",
       "\n",
       "                                                    blurb country  \\\n",
       "0       Lets provide Cape Verde with the same activiti...      NL   \n",
       "1       Mobile Application and Online Community addres...      US   \n",
       "2               The Rising of the Shield Hero Enamel Pins      US   \n",
       "3       Get your DADSIE on!! Overalls one minute, hand...      AU   \n",
       "4       The Cryptid Collection is an Enamel Pin Series...      US   \n",
       "...                                                   ...     ...   \n",
       "215653  In 2016 I made a critter a day for the ENTIRE ...      US   \n",
       "215654  Atmospheric single-player/co-op RPG set in a \"...      US   \n",
       "215655  Seymour Barab is one of America's most inventi...      US   \n",
       "215656  PIGBOYS, the photobook series featuring handso...      US   \n",
       "215657  Born in 1985 NE England meant I was part of a ...      GB   \n",
       "\n",
       "       current_currency  disable_communication   fx_rate          id  \\\n",
       "0                   USD                      0  1.113333  1085396042   \n",
       "1                   USD                      0  1.000000   601978488   \n",
       "2                   USD                      0  1.000000   131421780   \n",
       "3                   USD                      0  0.689825   986098168   \n",
       "4                   USD                      0  1.000000   794850079   \n",
       "...                 ...                    ...       ...         ...   \n",
       "215653              USD                      0  1.000000  1305740682   \n",
       "215654              USD                      0  1.000000   700452989   \n",
       "215655              USD                      0  1.000000   683017924   \n",
       "215656              USD                      0  1.000000   171527222   \n",
       "215657              USD                      0  1.313810   663594376   \n",
       "\n",
       "        is_starrable                                               name  ...  \\\n",
       "0                  0  A brand new fast food & entertainment chain in...  ...   \n",
       "1                  0                                              RIDME  ...   \n",
       "2                  0                                  Unforeseen Heroes  ...   \n",
       "3                  0                                         the DADSIE  ...   \n",
       "4                  0                            Cryptid Collection 2019  ...   \n",
       "...              ...                                                ...  ...   \n",
       "215653             0  Help This Calendar Full of Critters Come to Life!  ...   \n",
       "215654             0  InSomnia - An RPG Set in a Brutal Dieselpunk U...  ...   \n",
       "215655             0     Recording Barab's Bawd Ballads: a double debut  ...   \n",
       "215656             0                              PIGBOYS: All 3 Books!  ...   \n",
       "215657             0                                      A Miner's Son  ...   \n",
       "\n",
       "        blurb_length  blurb_caps  name_length  name_caps  repeat_creator  \\\n",
       "0              121.0           3           58          3               0   \n",
       "1               88.0           4            5          5               0   \n",
       "2               41.0           6           17          2               0   \n",
       "3               63.0           8           10          6               0   \n",
       "4               81.0           8           23          2               0   \n",
       "...              ...         ...          ...        ...             ...   \n",
       "215653         131.0          11           49          7               0   \n",
       "215654         105.0           4           53         10               1   \n",
       "215655         135.0           4           46          4               0   \n",
       "215656         134.0           7           21          9               0   \n",
       "215657         135.0           5           13          3               0   \n",
       "\n",
       "        overarching_category  page_position  goal_reached  Month  Year  \n",
       "0                       food              9           0.0      1  2020  \n",
       "1                    fashion              2           0.0      1  2020  \n",
       "2                        art              1           1.0      1  2020  \n",
       "3                    fashion              2           0.0      1  2020  \n",
       "4                        art              1           1.0      1  2020  \n",
       "...                      ...            ...           ...    ...   ...  \n",
       "215653            publishing              4           1.0     12  2019  \n",
       "215654                 games              7           1.0     12  2019  \n",
       "215655                 music              3           1.0     12  2019  \n",
       "215656           photography              5           1.0     12  2019  \n",
       "215657           photography              5           0.0     12  2019  \n",
       "\n",
       "[215658 rows x 24 columns]"
      ]
     },
     "execution_count": 4,
     "metadata": {},
     "output_type": "execute_result"
    }
   ],
   "source": [
    "df"
   ]
  },
  {
   "cell_type": "code",
   "execution_count": 5,
   "metadata": {},
   "outputs": [
    {
     "name": "stdout",
     "output_type": "stream",
     "text": [
      "<class 'pandas.core.frame.DataFrame'>\n",
      "RangeIndex: 215658 entries, 0 to 215657\n",
      "Data columns (total 24 columns):\n",
      " #   Column                 Non-Null Count   Dtype  \n",
      "---  ------                 --------------   -----  \n",
      " 0   Unnamed: 0             215658 non-null  int64  \n",
      " 1   backers_count          215658 non-null  int64  \n",
      " 2   blurb                  215658 non-null  object \n",
      " 3   country                215658 non-null  object \n",
      " 4   current_currency       215658 non-null  object \n",
      " 5   disable_communication  215658 non-null  int64  \n",
      " 6   fx_rate                215658 non-null  float64\n",
      " 7   id                     215658 non-null  int64  \n",
      " 8   is_starrable           215658 non-null  int64  \n",
      " 9   name                   215658 non-null  object \n",
      " 10  staff_pick             215658 non-null  int64  \n",
      " 11  usd_pledged            215657 non-null  float64\n",
      " 12  usd_goal               215658 non-null  float64\n",
      " 13  duration_days          215658 non-null  float64\n",
      " 14  blurb_length           215658 non-null  float64\n",
      " 15  blurb_caps             215658 non-null  int64  \n",
      " 16  name_length            215658 non-null  int64  \n",
      " 17  name_caps              215658 non-null  int64  \n",
      " 18  repeat_creator         215658 non-null  int64  \n",
      " 19  overarching_category   215658 non-null  object \n",
      " 20  page_position          215658 non-null  int64  \n",
      " 21  goal_reached           215657 non-null  float64\n",
      " 22  Month                  215658 non-null  int64  \n",
      " 23  Year                   215658 non-null  int64  \n",
      "dtypes: float64(6), int64(13), object(5)\n",
      "memory usage: 39.5+ MB\n"
     ]
    }
   ],
   "source": [
    "df.info()"
   ]
  },
  {
   "cell_type": "code",
   "execution_count": 6,
   "metadata": {},
   "outputs": [],
   "source": [
    "#columns that arent useful for ML: 'blurb', 'creator', 'currency', 'deadline', 'id', 'name', 'profile', 'slug'\n",
    "df.drop(['Unnamed: 0','is_starrable','fx_rate','duration_days','country','current_currency'], axis = 1, inplace = True)"
   ]
  },
  {
   "cell_type": "code",
   "execution_count": 7,
   "metadata": {},
   "outputs": [
    {
     "data": {
      "text/html": [
       "<div>\n",
       "<style scoped>\n",
       "    .dataframe tbody tr th:only-of-type {\n",
       "        vertical-align: middle;\n",
       "    }\n",
       "\n",
       "    .dataframe tbody tr th {\n",
       "        vertical-align: top;\n",
       "    }\n",
       "\n",
       "    .dataframe thead th {\n",
       "        text-align: right;\n",
       "    }\n",
       "</style>\n",
       "<table border=\"1\" class=\"dataframe\">\n",
       "  <thead>\n",
       "    <tr style=\"text-align: right;\">\n",
       "      <th></th>\n",
       "      <th>backers_count</th>\n",
       "      <th>blurb</th>\n",
       "      <th>disable_communication</th>\n",
       "      <th>id</th>\n",
       "      <th>name</th>\n",
       "      <th>staff_pick</th>\n",
       "      <th>usd_pledged</th>\n",
       "      <th>usd_goal</th>\n",
       "      <th>blurb_length</th>\n",
       "      <th>blurb_caps</th>\n",
       "      <th>name_length</th>\n",
       "      <th>name_caps</th>\n",
       "      <th>repeat_creator</th>\n",
       "      <th>overarching_category</th>\n",
       "      <th>page_position</th>\n",
       "      <th>goal_reached</th>\n",
       "      <th>Month</th>\n",
       "      <th>Year</th>\n",
       "    </tr>\n",
       "  </thead>\n",
       "  <tbody>\n",
       "    <tr>\n",
       "      <th>0</th>\n",
       "      <td>2</td>\n",
       "      <td>Lets provide Cape Verde with the same activiti...</td>\n",
       "      <td>0</td>\n",
       "      <td>1085396042</td>\n",
       "      <td>A brand new fast food &amp; entertainment chain in...</td>\n",
       "      <td>0</td>\n",
       "      <td>14.405949</td>\n",
       "      <td>16622.248350</td>\n",
       "      <td>121.0</td>\n",
       "      <td>3</td>\n",
       "      <td>58</td>\n",
       "      <td>3</td>\n",
       "      <td>0</td>\n",
       "      <td>food</td>\n",
       "      <td>9</td>\n",
       "      <td>0.0</td>\n",
       "      <td>1</td>\n",
       "      <td>2020</td>\n",
       "    </tr>\n",
       "    <tr>\n",
       "      <th>1</th>\n",
       "      <td>67</td>\n",
       "      <td>Mobile Application and Online Community addres...</td>\n",
       "      <td>0</td>\n",
       "      <td>601978488</td>\n",
       "      <td>RIDME</td>\n",
       "      <td>0</td>\n",
       "      <td>5015.000000</td>\n",
       "      <td>100000.000000</td>\n",
       "      <td>88.0</td>\n",
       "      <td>4</td>\n",
       "      <td>5</td>\n",
       "      <td>5</td>\n",
       "      <td>0</td>\n",
       "      <td>fashion</td>\n",
       "      <td>2</td>\n",
       "      <td>0.0</td>\n",
       "      <td>1</td>\n",
       "      <td>2020</td>\n",
       "    </tr>\n",
       "    <tr>\n",
       "      <th>2</th>\n",
       "      <td>43</td>\n",
       "      <td>The Rising of the Shield Hero Enamel Pins</td>\n",
       "      <td>0</td>\n",
       "      <td>131421780</td>\n",
       "      <td>Unforeseen Heroes</td>\n",
       "      <td>0</td>\n",
       "      <td>1768.000000</td>\n",
       "      <td>450.000000</td>\n",
       "      <td>41.0</td>\n",
       "      <td>6</td>\n",
       "      <td>17</td>\n",
       "      <td>2</td>\n",
       "      <td>0</td>\n",
       "      <td>art</td>\n",
       "      <td>1</td>\n",
       "      <td>1.0</td>\n",
       "      <td>1</td>\n",
       "      <td>2020</td>\n",
       "    </tr>\n",
       "    <tr>\n",
       "      <th>3</th>\n",
       "      <td>35</td>\n",
       "      <td>Get your DADSIE on!! Overalls one minute, hand...</td>\n",
       "      <td>0</td>\n",
       "      <td>986098168</td>\n",
       "      <td>the DADSIE</td>\n",
       "      <td>0</td>\n",
       "      <td>4222.662018</td>\n",
       "      <td>7668.289310</td>\n",
       "      <td>63.0</td>\n",
       "      <td>8</td>\n",
       "      <td>10</td>\n",
       "      <td>6</td>\n",
       "      <td>0</td>\n",
       "      <td>fashion</td>\n",
       "      <td>2</td>\n",
       "      <td>0.0</td>\n",
       "      <td>1</td>\n",
       "      <td>2020</td>\n",
       "    </tr>\n",
       "    <tr>\n",
       "      <th>4</th>\n",
       "      <td>276</td>\n",
       "      <td>The Cryptid Collection is an Enamel Pin Series...</td>\n",
       "      <td>0</td>\n",
       "      <td>794850079</td>\n",
       "      <td>Cryptid Collection 2019</td>\n",
       "      <td>0</td>\n",
       "      <td>7163.000000</td>\n",
       "      <td>1200.000000</td>\n",
       "      <td>81.0</td>\n",
       "      <td>8</td>\n",
       "      <td>23</td>\n",
       "      <td>2</td>\n",
       "      <td>0</td>\n",
       "      <td>art</td>\n",
       "      <td>1</td>\n",
       "      <td>1.0</td>\n",
       "      <td>1</td>\n",
       "      <td>2020</td>\n",
       "    </tr>\n",
       "    <tr>\n",
       "      <th>...</th>\n",
       "      <td>...</td>\n",
       "      <td>...</td>\n",
       "      <td>...</td>\n",
       "      <td>...</td>\n",
       "      <td>...</td>\n",
       "      <td>...</td>\n",
       "      <td>...</td>\n",
       "      <td>...</td>\n",
       "      <td>...</td>\n",
       "      <td>...</td>\n",
       "      <td>...</td>\n",
       "      <td>...</td>\n",
       "      <td>...</td>\n",
       "      <td>...</td>\n",
       "      <td>...</td>\n",
       "      <td>...</td>\n",
       "      <td>...</td>\n",
       "      <td>...</td>\n",
       "    </tr>\n",
       "    <tr>\n",
       "      <th>215653</th>\n",
       "      <td>55</td>\n",
       "      <td>In 2016 I made a critter a day for the ENTIRE ...</td>\n",
       "      <td>0</td>\n",
       "      <td>1305740682</td>\n",
       "      <td>Help This Calendar Full of Critters Come to Life!</td>\n",
       "      <td>1</td>\n",
       "      <td>1589.000000</td>\n",
       "      <td>1250.000000</td>\n",
       "      <td>131.0</td>\n",
       "      <td>11</td>\n",
       "      <td>49</td>\n",
       "      <td>7</td>\n",
       "      <td>0</td>\n",
       "      <td>publishing</td>\n",
       "      <td>4</td>\n",
       "      <td>1.0</td>\n",
       "      <td>12</td>\n",
       "      <td>2019</td>\n",
       "    </tr>\n",
       "    <tr>\n",
       "      <th>215654</th>\n",
       "      <td>3559</td>\n",
       "      <td>Atmospheric single-player/co-op RPG set in a \"...</td>\n",
       "      <td>0</td>\n",
       "      <td>700452989</td>\n",
       "      <td>InSomnia - An RPG Set in a Brutal Dieselpunk U...</td>\n",
       "      <td>0</td>\n",
       "      <td>92268.290000</td>\n",
       "      <td>70000.000000</td>\n",
       "      <td>105.0</td>\n",
       "      <td>4</td>\n",
       "      <td>53</td>\n",
       "      <td>10</td>\n",
       "      <td>1</td>\n",
       "      <td>games</td>\n",
       "      <td>7</td>\n",
       "      <td>1.0</td>\n",
       "      <td>12</td>\n",
       "      <td>2019</td>\n",
       "    </tr>\n",
       "    <tr>\n",
       "      <th>215655</th>\n",
       "      <td>44</td>\n",
       "      <td>Seymour Barab is one of America's most inventi...</td>\n",
       "      <td>0</td>\n",
       "      <td>683017924</td>\n",
       "      <td>Recording Barab's Bawd Ballads: a double debut</td>\n",
       "      <td>0</td>\n",
       "      <td>10090.000000</td>\n",
       "      <td>10000.000000</td>\n",
       "      <td>135.0</td>\n",
       "      <td>4</td>\n",
       "      <td>46</td>\n",
       "      <td>4</td>\n",
       "      <td>0</td>\n",
       "      <td>music</td>\n",
       "      <td>3</td>\n",
       "      <td>1.0</td>\n",
       "      <td>12</td>\n",
       "      <td>2019</td>\n",
       "    </tr>\n",
       "    <tr>\n",
       "      <th>215656</th>\n",
       "      <td>17</td>\n",
       "      <td>PIGBOYS, the photobook series featuring handso...</td>\n",
       "      <td>0</td>\n",
       "      <td>171527222</td>\n",
       "      <td>PIGBOYS: All 3 Books!</td>\n",
       "      <td>0</td>\n",
       "      <td>1997.000000</td>\n",
       "      <td>1850.000000</td>\n",
       "      <td>134.0</td>\n",
       "      <td>7</td>\n",
       "      <td>21</td>\n",
       "      <td>9</td>\n",
       "      <td>0</td>\n",
       "      <td>photography</td>\n",
       "      <td>5</td>\n",
       "      <td>1.0</td>\n",
       "      <td>12</td>\n",
       "      <td>2019</td>\n",
       "    </tr>\n",
       "    <tr>\n",
       "      <th>215657</th>\n",
       "      <td>5</td>\n",
       "      <td>Born in 1985 NE England meant I was part of a ...</td>\n",
       "      <td>0</td>\n",
       "      <td>663594376</td>\n",
       "      <td>A Miner's Son</td>\n",
       "      <td>0</td>\n",
       "      <td>94.926712</td>\n",
       "      <td>778.087805</td>\n",
       "      <td>135.0</td>\n",
       "      <td>5</td>\n",
       "      <td>13</td>\n",
       "      <td>3</td>\n",
       "      <td>0</td>\n",
       "      <td>photography</td>\n",
       "      <td>5</td>\n",
       "      <td>0.0</td>\n",
       "      <td>12</td>\n",
       "      <td>2019</td>\n",
       "    </tr>\n",
       "  </tbody>\n",
       "</table>\n",
       "<p>215658 rows × 18 columns</p>\n",
       "</div>"
      ],
      "text/plain": [
       "        backers_count                                              blurb  \\\n",
       "0                   2  Lets provide Cape Verde with the same activiti...   \n",
       "1                  67  Mobile Application and Online Community addres...   \n",
       "2                  43          The Rising of the Shield Hero Enamel Pins   \n",
       "3                  35  Get your DADSIE on!! Overalls one minute, hand...   \n",
       "4                 276  The Cryptid Collection is an Enamel Pin Series...   \n",
       "...               ...                                                ...   \n",
       "215653             55  In 2016 I made a critter a day for the ENTIRE ...   \n",
       "215654           3559  Atmospheric single-player/co-op RPG set in a \"...   \n",
       "215655             44  Seymour Barab is one of America's most inventi...   \n",
       "215656             17  PIGBOYS, the photobook series featuring handso...   \n",
       "215657              5  Born in 1985 NE England meant I was part of a ...   \n",
       "\n",
       "        disable_communication          id  \\\n",
       "0                           0  1085396042   \n",
       "1                           0   601978488   \n",
       "2                           0   131421780   \n",
       "3                           0   986098168   \n",
       "4                           0   794850079   \n",
       "...                       ...         ...   \n",
       "215653                      0  1305740682   \n",
       "215654                      0   700452989   \n",
       "215655                      0   683017924   \n",
       "215656                      0   171527222   \n",
       "215657                      0   663594376   \n",
       "\n",
       "                                                     name  staff_pick  \\\n",
       "0       A brand new fast food & entertainment chain in...           0   \n",
       "1                                                   RIDME           0   \n",
       "2                                       Unforeseen Heroes           0   \n",
       "3                                              the DADSIE           0   \n",
       "4                                 Cryptid Collection 2019           0   \n",
       "...                                                   ...         ...   \n",
       "215653  Help This Calendar Full of Critters Come to Life!           1   \n",
       "215654  InSomnia - An RPG Set in a Brutal Dieselpunk U...           0   \n",
       "215655     Recording Barab's Bawd Ballads: a double debut           0   \n",
       "215656                              PIGBOYS: All 3 Books!           0   \n",
       "215657                                      A Miner's Son           0   \n",
       "\n",
       "         usd_pledged       usd_goal  blurb_length  blurb_caps  name_length  \\\n",
       "0          14.405949   16622.248350         121.0           3           58   \n",
       "1        5015.000000  100000.000000          88.0           4            5   \n",
       "2        1768.000000     450.000000          41.0           6           17   \n",
       "3        4222.662018    7668.289310          63.0           8           10   \n",
       "4        7163.000000    1200.000000          81.0           8           23   \n",
       "...              ...            ...           ...         ...          ...   \n",
       "215653   1589.000000    1250.000000         131.0          11           49   \n",
       "215654  92268.290000   70000.000000         105.0           4           53   \n",
       "215655  10090.000000   10000.000000         135.0           4           46   \n",
       "215656   1997.000000    1850.000000         134.0           7           21   \n",
       "215657     94.926712     778.087805         135.0           5           13   \n",
       "\n",
       "        name_caps  repeat_creator overarching_category  page_position  \\\n",
       "0               3               0                 food              9   \n",
       "1               5               0              fashion              2   \n",
       "2               2               0                  art              1   \n",
       "3               6               0              fashion              2   \n",
       "4               2               0                  art              1   \n",
       "...           ...             ...                  ...            ...   \n",
       "215653          7               0           publishing              4   \n",
       "215654         10               1                games              7   \n",
       "215655          4               0                music              3   \n",
       "215656          9               0          photography              5   \n",
       "215657          3               0          photography              5   \n",
       "\n",
       "        goal_reached  Month  Year  \n",
       "0                0.0      1  2020  \n",
       "1                0.0      1  2020  \n",
       "2                1.0      1  2020  \n",
       "3                0.0      1  2020  \n",
       "4                1.0      1  2020  \n",
       "...              ...    ...   ...  \n",
       "215653           1.0     12  2019  \n",
       "215654           1.0     12  2019  \n",
       "215655           1.0     12  2019  \n",
       "215656           1.0     12  2019  \n",
       "215657           0.0     12  2019  \n",
       "\n",
       "[215658 rows x 18 columns]"
      ]
     },
     "execution_count": 7,
     "metadata": {},
     "output_type": "execute_result"
    }
   ],
   "source": [
    "df"
   ]
  },
  {
   "cell_type": "code",
   "execution_count": 8,
   "metadata": {},
   "outputs": [
    {
     "data": {
      "text/html": [
       "<div>\n",
       "<style scoped>\n",
       "    .dataframe tbody tr th:only-of-type {\n",
       "        vertical-align: middle;\n",
       "    }\n",
       "\n",
       "    .dataframe tbody tr th {\n",
       "        vertical-align: top;\n",
       "    }\n",
       "\n",
       "    .dataframe thead th {\n",
       "        text-align: right;\n",
       "    }\n",
       "</style>\n",
       "<table border=\"1\" class=\"dataframe\">\n",
       "  <thead>\n",
       "    <tr style=\"text-align: right;\">\n",
       "      <th></th>\n",
       "      <th>backers_count</th>\n",
       "      <th>blurb</th>\n",
       "      <th>disable_communication</th>\n",
       "      <th>id</th>\n",
       "      <th>name</th>\n",
       "      <th>staff_pick</th>\n",
       "      <th>usd_pledged</th>\n",
       "      <th>usd_goal</th>\n",
       "      <th>blurb_length</th>\n",
       "      <th>blurb_caps</th>\n",
       "      <th>name_length</th>\n",
       "      <th>name_caps</th>\n",
       "      <th>repeat_creator</th>\n",
       "      <th>overarching_category</th>\n",
       "      <th>page_position</th>\n",
       "      <th>goal_reached</th>\n",
       "      <th>Month</th>\n",
       "      <th>Year</th>\n",
       "    </tr>\n",
       "  </thead>\n",
       "  <tbody>\n",
       "    <tr>\n",
       "      <th>37</th>\n",
       "      <td>0</td>\n",
       "      <td>123MOVIES WATCH JUMANJI: THE NEXT LEVEL 2019 F...</td>\n",
       "      <td>1</td>\n",
       "      <td>1240927615</td>\n",
       "      <td>WATCH JUMANJI: THE NEXT LEVEL 2019 FULL MOVIE ...</td>\n",
       "      <td>0</td>\n",
       "      <td>NaN</td>\n",
       "      <td>0.0</td>\n",
       "      <td>112.0</td>\n",
       "      <td>62</td>\n",
       "      <td>72</td>\n",
       "      <td>46</td>\n",
       "      <td>0</td>\n",
       "      <td>film &amp; video</td>\n",
       "      <td>11</td>\n",
       "      <td>NaN</td>\n",
       "      <td>2</td>\n",
       "      <td>2020</td>\n",
       "    </tr>\n",
       "  </tbody>\n",
       "</table>\n",
       "</div>"
      ],
      "text/plain": [
       "    backers_count                                              blurb  \\\n",
       "37              0  123MOVIES WATCH JUMANJI: THE NEXT LEVEL 2019 F...   \n",
       "\n",
       "    disable_communication          id  \\\n",
       "37                      1  1240927615   \n",
       "\n",
       "                                                 name  staff_pick  \\\n",
       "37  WATCH JUMANJI: THE NEXT LEVEL 2019 FULL MOVIE ...           0   \n",
       "\n",
       "    usd_pledged  usd_goal  blurb_length  blurb_caps  name_length  name_caps  \\\n",
       "37          NaN       0.0         112.0          62           72         46   \n",
       "\n",
       "    repeat_creator overarching_category  page_position  goal_reached  Month  \\\n",
       "37               0         film & video             11           NaN      2   \n",
       "\n",
       "    Year  \n",
       "37  2020  "
      ]
     },
     "execution_count": 8,
     "metadata": {},
     "output_type": "execute_result"
    }
   ],
   "source": [
    "df.loc[df['id'] == 1240927615]"
   ]
  },
  {
   "cell_type": "code",
   "execution_count": 9,
   "metadata": {},
   "outputs": [],
   "source": [
    "df.dropna(subset = [\"goal_reached\"], inplace=True)"
   ]
  },
  {
   "cell_type": "code",
   "execution_count": 10,
   "metadata": {},
   "outputs": [
    {
     "data": {
      "text/html": [
       "<div>\n",
       "<style scoped>\n",
       "    .dataframe tbody tr th:only-of-type {\n",
       "        vertical-align: middle;\n",
       "    }\n",
       "\n",
       "    .dataframe tbody tr th {\n",
       "        vertical-align: top;\n",
       "    }\n",
       "\n",
       "    .dataframe thead th {\n",
       "        text-align: right;\n",
       "    }\n",
       "</style>\n",
       "<table border=\"1\" class=\"dataframe\">\n",
       "  <thead>\n",
       "    <tr style=\"text-align: right;\">\n",
       "      <th></th>\n",
       "      <th>backers_count</th>\n",
       "      <th>blurb</th>\n",
       "      <th>disable_communication</th>\n",
       "      <th>id</th>\n",
       "      <th>name</th>\n",
       "      <th>staff_pick</th>\n",
       "      <th>usd_pledged</th>\n",
       "      <th>usd_goal</th>\n",
       "      <th>blurb_length</th>\n",
       "      <th>blurb_caps</th>\n",
       "      <th>name_length</th>\n",
       "      <th>name_caps</th>\n",
       "      <th>repeat_creator</th>\n",
       "      <th>overarching_category</th>\n",
       "      <th>page_position</th>\n",
       "      <th>goal_reached</th>\n",
       "      <th>Month</th>\n",
       "      <th>Year</th>\n",
       "    </tr>\n",
       "  </thead>\n",
       "  <tbody>\n",
       "  </tbody>\n",
       "</table>\n",
       "</div>"
      ],
      "text/plain": [
       "Empty DataFrame\n",
       "Columns: [backers_count, blurb, disable_communication, id, name, staff_pick, usd_pledged, usd_goal, blurb_length, blurb_caps, name_length, name_caps, repeat_creator, overarching_category, page_position, goal_reached, Month, Year]\n",
       "Index: []"
      ]
     },
     "execution_count": 10,
     "metadata": {},
     "output_type": "execute_result"
    }
   ],
   "source": [
    "df.loc[df['id'] == 1240927615]"
   ]
  },
  {
   "cell_type": "code",
   "execution_count": 11,
   "metadata": {},
   "outputs": [
    {
     "data": {
      "text/plain": [
       "backers_count            0\n",
       "blurb                    0\n",
       "disable_communication    0\n",
       "id                       0\n",
       "name                     0\n",
       "staff_pick               0\n",
       "usd_pledged              0\n",
       "usd_goal                 0\n",
       "blurb_length             0\n",
       "blurb_caps               0\n",
       "name_length              0\n",
       "name_caps                0\n",
       "repeat_creator           0\n",
       "overarching_category     0\n",
       "page_position            0\n",
       "goal_reached             0\n",
       "Month                    0\n",
       "Year                     0\n",
       "dtype: int64"
      ]
     },
     "execution_count": 11,
     "metadata": {},
     "output_type": "execute_result"
    }
   ],
   "source": [
    "df.isnull().sum()"
   ]
  },
  {
   "cell_type": "code",
   "execution_count": 12,
   "metadata": {},
   "outputs": [
    {
     "name": "stdout",
     "output_type": "stream",
     "text": [
      "<class 'pandas.core.frame.DataFrame'>\n",
      "Int64Index: 215657 entries, 0 to 215657\n",
      "Data columns (total 18 columns):\n",
      " #   Column                 Non-Null Count   Dtype  \n",
      "---  ------                 --------------   -----  \n",
      " 0   backers_count          215657 non-null  int64  \n",
      " 1   blurb                  215657 non-null  object \n",
      " 2   disable_communication  215657 non-null  int64  \n",
      " 3   id                     215657 non-null  int64  \n",
      " 4   name                   215657 non-null  object \n",
      " 5   staff_pick             215657 non-null  int64  \n",
      " 6   usd_pledged            215657 non-null  float64\n",
      " 7   usd_goal               215657 non-null  float64\n",
      " 8   blurb_length           215657 non-null  float64\n",
      " 9   blurb_caps             215657 non-null  int64  \n",
      " 10  name_length            215657 non-null  int64  \n",
      " 11  name_caps              215657 non-null  int64  \n",
      " 12  repeat_creator         215657 non-null  int64  \n",
      " 13  overarching_category   215657 non-null  object \n",
      " 14  page_position          215657 non-null  int64  \n",
      " 15  goal_reached           215657 non-null  float64\n",
      " 16  Month                  215657 non-null  int64  \n",
      " 17  Year                   215657 non-null  int64  \n",
      "dtypes: float64(4), int64(11), object(3)\n",
      "memory usage: 31.3+ MB\n"
     ]
    }
   ],
   "source": [
    "df.info()"
   ]
  },
  {
   "cell_type": "code",
   "execution_count": 13,
   "metadata": {},
   "outputs": [
    {
     "data": {
      "text/html": [
       "<div>\n",
       "<style scoped>\n",
       "    .dataframe tbody tr th:only-of-type {\n",
       "        vertical-align: middle;\n",
       "    }\n",
       "\n",
       "    .dataframe tbody tr th {\n",
       "        vertical-align: top;\n",
       "    }\n",
       "\n",
       "    .dataframe thead th {\n",
       "        text-align: right;\n",
       "    }\n",
       "</style>\n",
       "<table border=\"1\" class=\"dataframe\">\n",
       "  <thead>\n",
       "    <tr style=\"text-align: right;\">\n",
       "      <th></th>\n",
       "      <th>backers_count</th>\n",
       "      <th>blurb</th>\n",
       "      <th>disable_communication</th>\n",
       "      <th>id</th>\n",
       "      <th>name</th>\n",
       "      <th>staff_pick</th>\n",
       "      <th>usd_pledged</th>\n",
       "      <th>usd_goal</th>\n",
       "      <th>blurb_length</th>\n",
       "      <th>blurb_caps</th>\n",
       "      <th>name_length</th>\n",
       "      <th>name_caps</th>\n",
       "      <th>repeat_creator</th>\n",
       "      <th>overarching_category</th>\n",
       "      <th>page_position</th>\n",
       "      <th>goal_reached</th>\n",
       "      <th>Month</th>\n",
       "      <th>Year</th>\n",
       "    </tr>\n",
       "  </thead>\n",
       "  <tbody>\n",
       "    <tr>\n",
       "      <th>135168</th>\n",
       "      <td>105857</td>\n",
       "      <td>Bring Reading Rainbow’s library of interactive...</td>\n",
       "      <td>0</td>\n",
       "      <td>557230947</td>\n",
       "      <td>Bring Reading Rainbow Back for Every Child, Ev...</td>\n",
       "      <td>1</td>\n",
       "      <td>5408916.95</td>\n",
       "      <td>1000000.0</td>\n",
       "      <td>135.0</td>\n",
       "      <td>3</td>\n",
       "      <td>55</td>\n",
       "      <td>7</td>\n",
       "      <td>0</td>\n",
       "      <td>technology</td>\n",
       "      <td>15</td>\n",
       "      <td>1.0</td>\n",
       "      <td>12</td>\n",
       "      <td>2019</td>\n",
       "    </tr>\n",
       "  </tbody>\n",
       "</table>\n",
       "</div>"
      ],
      "text/plain": [
       "        backers_count                                              blurb  \\\n",
       "135168         105857  Bring Reading Rainbow’s library of interactive...   \n",
       "\n",
       "        disable_communication         id  \\\n",
       "135168                      0  557230947   \n",
       "\n",
       "                                                     name  staff_pick  \\\n",
       "135168  Bring Reading Rainbow Back for Every Child, Ev...           1   \n",
       "\n",
       "        usd_pledged   usd_goal  blurb_length  blurb_caps  name_length  \\\n",
       "135168   5408916.95  1000000.0         135.0           3           55   \n",
       "\n",
       "        name_caps  repeat_creator overarching_category  page_position  \\\n",
       "135168          7               0           technology             15   \n",
       "\n",
       "        goal_reached  Month  Year  \n",
       "135168           1.0     12  2019  "
      ]
     },
     "execution_count": 13,
     "metadata": {},
     "output_type": "execute_result"
    }
   ],
   "source": [
    "df.loc[df['backers_count'] == 105857]"
   ]
  },
  {
   "cell_type": "code",
   "execution_count": 14,
   "metadata": {},
   "outputs": [],
   "source": [
    "df_2019 = df.loc[df['Year'] == 2019]"
   ]
  },
  {
   "cell_type": "code",
   "execution_count": 20,
   "metadata": {},
   "outputs": [
    {
     "data": {
      "text/plain": [
       "<matplotlib.axes._subplots.AxesSubplot at 0x7fd2e95a14f0>"
      ]
     },
     "execution_count": 20,
     "metadata": {},
     "output_type": "execute_result"
    },
    {
     "data": {
      "image/png": "[encoded data removed]",
      "text/plain": [
       "<Figure size 792x792 with 2 Axes>"
      ]
     },
     "metadata": {
      "needs_background": "light"
     },
     "output_type": "display_data"
    }
   ],
   "source": [
    "import matplotlib.pyplot as plt\n",
    "corr = df_2019.corr()\n",
    "plt.subplots(figsize=(11,11))\n",
    "sns.heatmap(corr, vmax=0.9,cmap=\"YlGnBu\", square=True)"
   ]
  },
  {
   "cell_type": "code",
   "execution_count": 15,
   "metadata": {},
   "outputs": [],
   "source": [
    "df_2020 = df.loc[df['Year'] == 2020]"
   ]
  },
  {
   "cell_type": "code",
   "execution_count": 16,
   "metadata": {},
   "outputs": [
    {
     "data": {
      "text/plain": [
       "count    2.569100e+04\n",
       "mean     2.618948e+04\n",
       "std      9.757653e+05\n",
       "min      5.114279e-01\n",
       "25%      1.000000e+03\n",
       "50%      3.691944e+03\n",
       "75%      1.000000e+04\n",
       "max      1.182690e+08\n",
       "Name: usd_goal, dtype: float64"
      ]
     },
     "execution_count": 16,
     "metadata": {},
     "output_type": "execute_result"
    }
   ],
   "source": [
    "df_2020.usd_goal.describe()"
   ]
  },
  {
   "cell_type": "code",
   "execution_count": null,
   "metadata": {},
   "outputs": [],
   "source": [
    "#extract key features and communicate what they mean\n",
    "tv = df['goal_reached'].value_counts()\n",
    "print(tv)\n",
    "print(tv[1]/(tv[0]+tv[1]))"
   ]
  },
  {
   "cell_type": "code",
   "execution_count": null,
   "metadata": {},
   "outputs": [],
   "source": [
    "#extract key features and communicate what they mean\n",
    "tv = df_2019['goal_reached'].value_counts()\n",
    "print(tv)\n",
    "print(tv[1]/(tv[0]+tv[1]))"
   ]
  },
  {
   "cell_type": "code",
   "execution_count": null,
   "metadata": {},
   "outputs": [],
   "source": [
    "#extract key features and communicate what they mean\n",
    "tv = df_2020['goal_reached'].value_counts()\n",
    "print(tv)\n",
    "print(tv[1]/(tv[0]+tv[1]))"
   ]
  },
  {
   "cell_type": "code",
   "execution_count": null,
   "metadata": {},
   "outputs": [],
   "source": [
    "sns.distplot(df['goal_reached'])"
   ]
  },
  {
   "cell_type": "code",
   "execution_count": null,
   "metadata": {},
   "outputs": [],
   "source": [
    "df.backers_count.describe()"
   ]
  },
  {
   "cell_type": "code",
   "execution_count": null,
   "metadata": {},
   "outputs": [],
   "source": [
    "#plot the scatter plot of balance and age variable in data\n",
    "df.plot.scatter(x=\"backers_count\",y=\"goal_reached\")\n",
    "plt.show()"
   ]
  },
  {
   "cell_type": "code",
   "execution_count": null,
   "metadata": {
    "scrolled": true
   },
   "outputs": [],
   "source": [
    "df_2019.groupby('goal_reached')['backers_count'].mean().plot.bar()\n",
    "\n",
    "plt.show()"
   ]
  },
  {
   "cell_type": "code",
   "execution_count": null,
   "metadata": {},
   "outputs": [],
   "source": [
    "df_2020.groupby('goal_reached')['backers_count'].mean().plot.bar()\n",
    "plt.show()"
   ]
  },
  {
   "cell_type": "code",
   "execution_count": null,
   "metadata": {},
   "outputs": [],
   "source": [
    "df_2019.groupby('goal_reached')['backers_count'].mean()"
   ]
  },
  {
   "cell_type": "code",
   "execution_count": null,
   "metadata": {},
   "outputs": [],
   "source": [
    "df_2020.groupby('goal_reached')['backers_count'].mean()"
   ]
  },
  {
   "cell_type": "code",
   "execution_count": null,
   "metadata": {},
   "outputs": [],
   "source": [
    "437.996624 - 261.423061"
   ]
  },
  {
   "cell_type": "code",
   "execution_count": null,
   "metadata": {},
   "outputs": [],
   "source": [
    "df.usd_pledged.describe()"
   ]
  },
  {
   "cell_type": "code",
   "execution_count": null,
   "metadata": {},
   "outputs": [],
   "source": [
    "df.groupby('repeat_creator')['goal_reached'].count()"
   ]
  },
  {
   "cell_type": "code",
   "execution_count": null,
   "metadata": {},
   "outputs": [],
   "source": [
    "df.groupby('repeat_creator')['goal_reached'].count().plot.bar()\n",
    "plt.show()"
   ]
  },
  {
   "cell_type": "code",
   "execution_count": null,
   "metadata": {},
   "outputs": [],
   "source": [
    "# Let's calculate the percentage of category.\n",
    "df.overarching_category.value_counts(normalize=True)"
   ]
  },
  {
   "cell_type": "code",
   "execution_count": null,
   "metadata": {},
   "outputs": [],
   "source": [
    "#plot the bar graph of percentage job categories\n",
    "df.overarching_category.value_counts(normalize=True).plot.barh()\n",
    "plt.show()"
   ]
  },
  {
   "cell_type": "code",
   "execution_count": null,
   "metadata": {},
   "outputs": [],
   "source": [
    "#define colors (darkgreen for successful projects and darkred for failed ones\n",
    "colors = ('darkgreen','darkred')\n",
    "#create a plot using seaborn, adjust data to millions\n",
    "ax = sns.scatterplot(df.usd_pledged/1e6, df.usd_goal/1e6, hue=df.goal_reached, palette=colors)\n",
    "#add blue line to better visualize the border between failed and successful projects\n",
    "sns.lineplot(x=(0,50), y=(0,50), color='darkblue')\n",
    "#set the axes from -1 to their maximum (-1 looks better than 0 actually)\n",
    "ax.set(ylim=(-1,None), xlim=(-1,None))\n",
    "#set labels and title\n",
    "ax.set(xlabel='Amount Pledged in Millions', ylabel='Goal in Millions', title= 'Goal vs. Pledged')"
   ]
  },
  {
   "cell_type": "code",
   "execution_count": null,
   "metadata": {},
   "outputs": [],
   "source": [
    "%matplotlib inline\n",
    "\n",
    "import numpy as np\n",
    "import pandas as pd\n",
    "import matplotlib.pyplot as plt\n",
    "import seaborn as sns\n",
    "\n",
    "from collections import Counter\n",
    "\n",
    "\n",
    "from sklearn.preprocessing import LabelEncoder\n",
    "from sklearn.model_selection import StratifiedShuffleSplit\n",
    "from sklearn.decomposition import PCA\n",
    "from sklearn.pipeline import Pipeline\n",
    "from sklearn.preprocessing import StandardScaler\n",
    "from sklearn.ensemble import RandomForestClassifier\n",
    "from sklearn.linear_model import LogisticRegression\n",
    "from sklearn.metrics import roc_auc_score\n",
    "from sklearn.metrics import confusion_matrix\n",
    "from sklearn.metrics import classification_report\n",
    "from sklearn.model_selection import GridSearchCV"
   ]
  },
  {
   "cell_type": "code",
   "execution_count": null,
   "metadata": {},
   "outputs": [],
   "source": [
    "def categorical_with_per_count(kick, feature):\n",
    "    '''\n",
    "    Calculate frequency of the categorical feature with % and count base.\n",
    "    Sorted on the descending order.\n",
    "    '''\n",
    "    \n",
    "    # calculate frequency on % and value\n",
    "    freq_merged = pd.concat([kick[feature].value_counts(normalize=True) * 100,\n",
    "                             kick[feature].value_counts(normalize=False)], axis=1)\n",
    "    # rename columns\n",
    "    freq_merged.columns = [feature + '_%', feature + '_count']\n",
    "    return freq_merged"
   ]
  },
  {
   "cell_type": "code",
   "execution_count": null,
   "metadata": {},
   "outputs": [],
   "source": [
    "categorical_with_per_count(df, 'goal_reached')"
   ]
  },
  {
   "cell_type": "code",
   "execution_count": null,
   "metadata": {},
   "outputs": [],
   "source": [
    "# frequency of the main category\n",
    "categorical_with_per_count(df, 'overarching_category')"
   ]
  },
  {
   "cell_type": "code",
   "execution_count": null,
   "metadata": {},
   "outputs": [],
   "source": [
    "# change dimension of the plot\n",
    "dims = (10, 8)\n",
    "fig, ax = plt.subplots(figsize = dims)\n",
    "# barplot of the main categories by descending order\n",
    "sns.countplot(\n",
    "    y=df.overarching_category,\n",
    "    order = df['overarching_category'].value_counts().index\n",
    ")"
   ]
  },
  {
   "cell_type": "code",
   "execution_count": null,
   "metadata": {},
   "outputs": [],
   "source": [
    "categorical_with_per_count(df, 'country').head(n=10)"
   ]
  },
  {
   "cell_type": "code",
   "execution_count": null,
   "metadata": {},
   "outputs": [],
   "source": [
    "# Most successful categories based on counts\n",
    "dims = (10, 7)\n",
    "fig, ax = plt.subplots(figsize = dims)\n",
    "sns.countplot(x='overarching_category', palette=\"pastel\",data= df[df['goal_reached'] == 1].groupby(\"overarching_category\")\n",
    "              .filter(lambda x: len(x) > 3000), ax=ax)"
   ]
  },
  {
   "cell_type": "code",
   "execution_count": null,
   "metadata": {},
   "outputs": [],
   "source": [
    "# Least successful categories based on counts\n",
    "dims = (10, 7)\n",
    "fig, ax = plt.subplots(figsize = dims)\n",
    "sns.countplot(x='overarching_category', palette=\"Paired\",data= df[df['goal_reached'] == 0]\n",
    "              .groupby(\"overarching_category\").filter(lambda x: len(x) > 4500), ax=ax)"
   ]
  },
  {
   "cell_type": "code",
   "execution_count": null,
   "metadata": {},
   "outputs": [],
   "source": [
    "frame = pd.DataFrame()\n",
    "counts = df.overarching_category.value_counts()\n",
    "succ = df[df.goal_reached == 1].overarching_category.value_counts()\n",
    "\n",
    "\n",
    "rows_list = []\n",
    "for i in counts.keys():\n",
    "    dict1 = {}\n",
    "    # get input row in dictionary format\n",
    "    # key = col_name\n",
    "    dict1['overarching_category'] = i\n",
    "    dict1['Percent'] = succ[i] / counts[i] * 100\n",
    "    rows_list.append(dict1)\n",
    "\n",
    "frame = pd.DataFrame(rows_list)   \n",
    "so = frame.sort_values('Percent').tail(10)\n",
    "high = frame.sort_values('Percent').head(10)"
   ]
  },
  {
   "cell_type": "code",
   "execution_count": null,
   "metadata": {},
   "outputs": [],
   "source": [
    "# Most successful categories based on  rate\n",
    "dims = (12, 7)\n",
    "fig, ax = plt.subplots(figsize = dims)\n",
    "sns.barplot(x='overarching_category',y = 'Percent', palette=\"rocket_r\",data = so, ax=ax)\n",
    "\n",
    "#Surprisingly, comics is most successful category with more than 80 percent success rate"
   ]
  },
  {
   "cell_type": "code",
   "execution_count": null,
   "metadata": {},
   "outputs": [],
   "source": [
    "# Least successful categories based on percent\n",
    "dims = (12, 7)\n",
    "fig, ax = plt.subplots(figsize = dims)\n",
    "sns.barplot(x='overarching_category',y = 'Percent', palette=\"rocket_r\",data = high, ax=ax)"
   ]
  },
  {
   "cell_type": "code",
   "execution_count": null,
   "metadata": {},
   "outputs": [],
   "source": [
    "%pylab inline\n",
    "import pandas as pd\n",
    "import matplotlib.pyplot as plt\n",
    "\n",
    "df2 = df.groupby(['overarching_category', 'goal_reached'])['overarching_category'].count().unstack('goal_reached').fillna(0)\n",
    "#order=df['animals'].value_counts().index\n",
    "#.fillna(0)\n",
    "#plot_order = death.groupby('Cause Name')['Deaths'].sum().sort_values(ascending=False).index.values\n",
    "df2[[1,0]].plot(kind='bar', stacked=True, figsize=(15, 5))"
   ]
  },
  {
   "cell_type": "code",
   "execution_count": null,
   "metadata": {},
   "outputs": [],
   "source": [
    "# crosstab\n",
    "pal = [\"lightblue\",\"dodgerblue\"]\n",
    "ax= pd.crosstab(df['overarching_category'], df['goal_reached']).apply(lambda r: r/r.sum()*100, axis=1)\n",
    "ax_1 = ax.plot.bar(figsize=(17,7),stacked=True, rot=0, color=pal)\n",
    "display(ax)\n",
    "\n",
    "plt.legend(loc='upper center', bbox_to_anchor=(0.1, 1.0), title=\"Categories\")\n",
    "\n",
    "plt.xlabel('Category')\n",
    "plt.ylabel('Success/ Failure Rate Distribution')\n",
    "\n",
    "for rec in ax_1.patches:\n",
    "    height = rec.get_height()\n",
    "    ax_1.text(rec.get_x() + rec.get_width() / 2, \n",
    "              rec.get_y() + height / 2,\n",
    "              \"{:.0f}%\".format(height),\n",
    "              ha='center', \n",
    "              va='bottom')\n",
    "\n",
    "plt.show()"
   ]
  },
  {
   "cell_type": "code",
   "execution_count": null,
   "metadata": {},
   "outputs": [],
   "source": [
    "df.usd_goal.describe()"
   ]
  },
  {
   "cell_type": "code",
   "execution_count": null,
   "metadata": {},
   "outputs": [],
   "source": [
    "# calculate frequency of the goal: the most popular goal\n",
    "categorical_with_per_count(df, 'usd_goal').head(n=10)"
   ]
  },
  {
   "cell_type": "code",
   "execution_count": null,
   "metadata": {},
   "outputs": [],
   "source": [
    "# combine different plots into one: goal and log(goal)\n",
    "dims = (12, 7)\n",
    "fig, (ax1, ax2) = plt.subplots(ncols=2, sharey=False, figsize=dims)\n",
    "sns.distplot(df.usd_goal, ax=ax1)\n",
    "sns.distplot(np.log1p(df.usd_goal), ax=ax2)"
   ]
  },
  {
   "cell_type": "code",
   "execution_count": null,
   "metadata": {},
   "outputs": [],
   "source": [
    "# Code to understand skew\n",
    "\n",
    "numerics = ['int16', 'int32', 'int64', 'float16', 'float32', 'float64']\n",
    "newdf = df.select_dtypes(include=numerics)\n",
    "\n",
    "fig, axs = plt.subplots(ncols=2, nrows=0, figsize=(20, 120))\n",
    "plt.subplots_adjust(right=2)\n",
    "plt.subplots_adjust(top=2)\n",
    "sns.color_palette(\"husl\", 8)\n",
    "for i, feature in enumerate(list(newdf.columns), 1):\n",
    "    if(feature=='MiscVal'):\n",
    "        break\n",
    "    plt.subplot(len(list(newdf.columns)), 3, i)\n",
    "    sns.distplot(newdf[feature])\n",
    "    plt.xlabel('{}'.format(feature), size=15,labelpad=12.5)\n",
    "    \n",
    "    for j in range(2):\n",
    "        plt.tick_params(axis='x', labelsize=12)\n",
    "        plt.tick_params(axis='y', labelsize=12)\n",
    "    \n",
    "    plt.legend(loc='best', prop={'size': 10})\n",
    "        \n",
    "plt.show()"
   ]
  },
  {
   "cell_type": "code",
   "execution_count": null,
   "metadata": {},
   "outputs": [],
   "source": [
    "# In[5]:\n",
    "\n",
    "\n",
    "fig, axs = plt.subplots(ncols=2, nrows=2, figsize=(20, 20))\n",
    "plt.subplot(3, 3, 1)\n",
    "sns.distplot(df['name_caps'])\n",
    "plt.subplot(3, 3, 2)\n",
    "sns.distplot(df['page_position'])\n",
    "plt.subplot(3, 3, 3)\n",
    "sns.distplot(df['blurb_caps'])"
   ]
  },
  {
   "cell_type": "code",
   "execution_count": null,
   "metadata": {},
   "outputs": [],
   "source": [
    "# In[6]:\n",
    "\n",
    "\n",
    "#code to fix skew in key variables\n",
    "\n",
    "df['name_caps'] = np.log1p(df['name_caps'])\n",
    "df['page_position'] = np.log1p(df['page_position'])\n",
    "df['blurb_caps'] = np.log1p(df['blurb_caps'])\n",
    "# max_blurb = np.max(df['blurb_length'])\n",
    "# df['blurb_length'] = np.log1p((1+max_blurb)-df['blurb_length'])\n",
    "# sns.distplot(df['blurb_length'])\n",
    "print('done')"
   ]
  },
  {
   "cell_type": "code",
   "execution_count": 1,
   "metadata": {},
   "outputs": [
    {
     "ename": "NameError",
     "evalue": "name 'df_2019' is not defined",
     "output_type": "error",
     "traceback": [
      "\u001b[0;31m---------------------------------------------------------------------------\u001b[0m",
      "\u001b[0;31mNameError\u001b[0m                                 Traceback (most recent call last)",
      "\u001b[0;32m<ipython-input-1-10933ecf99d8>\u001b[0m in \u001b[0;36m<module>\u001b[0;34m\u001b[0m\n\u001b[0;32m----> 1\u001b[0;31m \u001b[0mdf_2019\u001b[0m\u001b[0;34m\u001b[0m\u001b[0;34m\u001b[0m\u001b[0m\n\u001b[0m",
      "\u001b[0;31mNameError\u001b[0m: name 'df_2019' is not defined"
     ]
    }
   ],
   "source": [
    "df_2019"
   ]
  },
  {
   "cell_type": "code",
   "execution_count": null,
   "metadata": {},
   "outputs": [],
   "source": [
    "# frequency of the main category\n",
    "categorical_with_per_count(df_2019, 'overarching_category')"
   ]
  },
  {
   "cell_type": "code",
   "execution_count": null,
   "metadata": {},
   "outputs": [],
   "source": [
    "# change dimension of the plot\n",
    "dims = (10, 8)\n",
    "fig, ax = plt.subplots(figsize = dims)\n",
    "# barplot of the main categories by descending order\n",
    "sns.countplot(\n",
    "    y=df_2019.overarching_category,\n",
    "    order = df_2019['overarching_category'].value_counts().index\n",
    ")"
   ]
  },
  {
   "cell_type": "code",
   "execution_count": null,
   "metadata": {},
   "outputs": [],
   "source": [
    "frame = pd.DataFrame()\n",
    "counts = df_2019.overarching_category.value_counts()\n",
    "succ = df_2019[df_2019.goal_reached == 1].overarching_category.value_counts()\n",
    "\n",
    "\n",
    "rows_list = []\n",
    "for i in counts.keys():\n",
    "    dict1 = {}\n",
    "    # get input row in dictionary format\n",
    "    # key = col_name\n",
    "    dict1['overarching_category'] = i\n",
    "    dict1['Percent'] = succ[i] / counts[i] * 100\n",
    "    rows_list.append(dict1)\n",
    "\n",
    "frame = pd.DataFrame(rows_list)   \n",
    "so = frame.sort_values('Percent').tail(10)\n",
    "high = frame.sort_values('Percent').head(10)\n",
    "# Most successful categories based on  rate\n",
    "dims = (12, 7)\n",
    "fig, ax = plt.subplots(figsize = dims)\n",
    "sns.barplot(x='overarching_category',y = 'Percent', palette=\"rocket_r\",data = so, ax=ax)\n",
    "\n",
    "#Surprisingly, comics is most successful category with more than 80 percent success rate"
   ]
  },
  {
   "cell_type": "code",
   "execution_count": null,
   "metadata": {},
   "outputs": [],
   "source": [
    "# crosstab\n",
    "pal = [\"lightblue\",\"dodgerblue\"]\n",
    "ax= pd.crosstab(df_2019['overarching_category'], df_2019['goal_reached']).apply(lambda r: r/r.sum()*100, axis=1)\n",
    "ax_1 = ax.plot.bar(figsize=(17,7),stacked=True, rot=0, color=pal)\n",
    "display(ax)\n",
    "\n",
    "plt.legend(loc='upper center', bbox_to_anchor=(1.05, 1.0), title=\"Goal Reached\")\n",
    "\n",
    "plt.xlabel('Category')\n",
    "plt.ylabel('Success/ Failure Rate Distribution')\n",
    "\n",
    "for rec in ax_1.patches:\n",
    "    height = rec.get_height()\n",
    "    ax_1.text(rec.get_x() + rec.get_width() / 2, \n",
    "              rec.get_y() + height / 2,\n",
    "              \"{:.0f}%\".format(height),\n",
    "              ha='center', \n",
    "              va='bottom')\n",
    "plt.title('Successful Rate of Projects by Category in 2019', fontsize = 16)\n",
    "plt.show()"
   ]
  },
  {
   "cell_type": "code",
   "execution_count": null,
   "metadata": {},
   "outputs": [],
   "source": [
    "df_2020 = df.loc[df['Year'] == 2020]\n",
    "df_2020"
   ]
  },
  {
   "cell_type": "code",
   "execution_count": null,
   "metadata": {},
   "outputs": [],
   "source": [
    "# frequency of the main category\n",
    "categorical_with_per_count(df_2020, 'overarching_category')"
   ]
  },
  {
   "cell_type": "code",
   "execution_count": null,
   "metadata": {},
   "outputs": [],
   "source": [
    "# change dimension of the plot\n",
    "dims = (6, 6)\n",
    "fig, ax = plt.subplots(figsize = dims)\n",
    "palette ={\"design\": \"#653700\", \"comics\": \"#D2681E\", \"games\": \"C1\", \"art\": \"tan\", \"publishing\": \"wheat\",\n",
    "            \"music\":\"#F0E68C\", \"theater\":\"#8c564b\", \"photography\":\"#7f7f7f\", \"fashion\":\"#AAA662\", \"dance\":\"k\",\n",
    "             \"technology\":\"sienna\", \"film & video\":\"#C79FEF\", \"journalism\":\"r\",\"food\":\"g\",\"crafts\":\"silver\"}\n",
    "# barplot of the main categories by descending order\n",
    "sns.countplot(\n",
    "    y=df_2020.overarching_category,\n",
    "    order = df_2020['overarching_category'].value_counts().index,\n",
    "    palette=palette\n",
    ")\n",
    "plt.title('Raking of Category Frequency on Kickerstarter in 2020', fontsize = 15)\n",
    "plt.xlabel('Count')\n",
    "plt.ylabel('Category')"
   ]
  },
  {
   "cell_type": "code",
   "execution_count": null,
   "metadata": {},
   "outputs": [],
   "source": [
    "# change dimension of the plot\n",
    "dims = (6, 6)\n",
    "fig, ax = plt.subplots(figsize = dims)\n",
    "palette ={\"design\": \"#653700\", \"comics\": \"#D2681E\", \"games\": \"C1\", \"art\": \"tan\", \"publishing\": \"wheat\",\n",
    "            \"music\":\"#F0E68C\", \"theater\":\"#8c564b\", \"photography\":\"#7f7f7f\", \"fashion\":\"#AAA662\", \"dance\":\"k\",\n",
    "             \"technology\":\"sienna\", \"film & video\":\"#C79FEF\", \"journalism\":\"r\",\"food\":\"g\",\"crafts\":\"silver\"}\n",
    "# barplot of the main categories by descending order\n",
    "sns.countplot(\n",
    "    y=df_2019.overarching_category,\n",
    "    order = df_2019['overarching_category'].value_counts().index,\n",
    "    palette=palette\n",
    ")\n",
    "plt.title('Raking of Category Frequency on Kickerstarter in 2019', fontsize = 15)\n",
    "plt.xlabel('Count')\n",
    "plt.ylabel('Category')"
   ]
  },
  {
   "cell_type": "code",
   "execution_count": null,
   "metadata": {},
   "outputs": [],
   "source": [
    "frame = pd.DataFrame()\n",
    "counts = df_2020.overarching_category.value_counts()\n",
    "succ = df_2020[df_2020.goal_reached == 1].overarching_category.value_counts()\n",
    "palette ={\"design\": \"#653700\", \"comics\": \"#D2681E\", \"games\": \"C1\", \"art\": \"tan\", \"publishing\": \"wheat\",\n",
    "            \"music\":\"#F0E68C\", \"theater\":\"#8c564b\", \"photography\":\"#7f7f7f\", \"fashion\":\"#AAA662\", \"dance\":\"k\"}\n",
    "rows_list = []\n",
    "for i in counts.keys():\n",
    "    dict1 = {}\n",
    "    # get input row in dictionary format\n",
    "    # key = col_name\n",
    "    dict1['overarching_category'] = i\n",
    "    dict1['Percent'] = succ[i] / counts[i] * 100\n",
    "    rows_list.append(dict1)\n",
    "\n",
    "frame = pd.DataFrame(rows_list)   \n",
    "so = frame.sort_values('Percent').tail(10)\n",
    "high = frame.sort_values('Percent').head(10)\n",
    "# Most successful categories based on  rate\n",
    "dims = (8.7, 5.8)\n",
    "fig, ax = plt.subplots(figsize = dims)\n",
    "sns.barplot(x='overarching_category',y = 'Percent',data = so, palette=palette, ax=ax)\n",
    "plt.title('Most Successful Projects by Category in 2020', fontsize = 15)\n",
    "plt.xlabel('Category')\n",
    "#Surprisingly, comics is most successful category with more than 80 percent success rate"
   ]
  },
  {
   "cell_type": "code",
   "execution_count": null,
   "metadata": {},
   "outputs": [],
   "source": [
    "frame = pd.DataFrame()\n",
    "counts = df_2019.overarching_category.value_counts()\n",
    "succ = df_2019[df_2019.goal_reached == 1].overarching_category.value_counts()\n",
    "palette ={\"design\": \"#653700\", \"comics\": \"#D2681E\", \"games\": \"C1\", \"art\": \"tan\", \"publishing\": \"wheat\",\n",
    "            \"music\":\"#F0E68C\", \"theater\":\"#8c564b\", \"fashion\":\"#AAA662\", \"dance\":\"k\", \"film & video\":\"#C79FEF\"}\n",
    "rows_list = []\n",
    "for i in counts.keys():\n",
    "    dict1 = {}\n",
    "    # get input row in dictionary format\n",
    "    # key = col_name\n",
    "    dict1['overarching_category'] = i\n",
    "    dict1['Percent'] = succ[i] / counts[i] * 100\n",
    "    rows_list.append(dict1)\n",
    "\n",
    "frame = pd.DataFrame(rows_list)   \n",
    "so = frame.sort_values('Percent').tail(10)\n",
    "high = frame.sort_values('Percent').head(10)\n",
    "# Most successful categories based on  rate\n",
    "dims = (8.5, 5.8)\n",
    "fig, ax = plt.subplots(figsize = dims)\n",
    "sns.barplot(x='overarching_category',y = 'Percent',data = so, palette=palette, ax=ax)\n",
    "plt.title('Most Successful Projects by Category in 2019', fontsize = 15)\n",
    "plt.xlabel('Category')\n",
    "#Surprisingly, comics is most successful category with more than 80 percent success rate"
   ]
  },
  {
   "cell_type": "code",
   "execution_count": null,
   "metadata": {},
   "outputs": [],
   "source": [
    "# crosstab\n",
    "pal = [\"lightblue\",\"dodgerblue\"]\n",
    "ax= pd.crosstab(df_2020['overarching_category'], df_2020['goal_reached']).apply(lambda r: r/r.sum()*100, axis=1)\n",
    "ax_1 = ax.plot.bar(figsize=(17,7),stacked=True, rot=0, color=pal)\n",
    "display(ax)\n",
    "plt.legend(loc='upper center', bbox_to_anchor=(1.05, 1.0), title=\"Goal Reached\")\n",
    "\n",
    "plt.xlabel('Category')\n",
    "plt.ylabel('Success/ Failure Rate Distribution')\n",
    "\n",
    "for rec in ax_1.patches:\n",
    "    height = rec.get_height()\n",
    "    ax_1.text(rec.get_x() + rec.get_width() / 2, \n",
    "              rec.get_y() + height / 2,\n",
    "              \"{:.0f}%\".format(height),\n",
    "              ha='center', \n",
    "              va='bottom')\n",
    "plt.title('Successful Rate of Projects by Category in 2020', fontsize = 16)\n",
    "plt.show()"
   ]
  },
  {
   "cell_type": "code",
   "execution_count": null,
   "metadata": {},
   "outputs": [],
   "source": [
    "# crosstab\n",
    "pal = [\"lightblue\",\"dodgerblue\"]\n",
    "df_2020.sort_values('goal_reached')\n",
    "ax= pd.crosstab(df_2020['overarching_category'], df_2020['goal_reached']).apply(lambda r: r/r.sum()*100, axis=1)\n",
    "ax_1 = ax.plot.bar(figsize=(17,7),stacked=True, rot=0, color=pal)\n",
    "display(ax)\n",
    "plt.legend(loc='upper center', bbox_to_anchor=(1.05, 1.0), title=\"Goal Reached\")\n",
    "\n",
    "plt.xlabel('Category')\n",
    "plt.ylabel('Success/ Failure Rate Distribution')\n",
    "\n",
    "for rec in ax_1.patches:\n",
    "    height = rec.get_height()\n",
    "    ax_1.text(rec.get_x() + rec.get_width() / 2, \n",
    "              rec.get_y() + height / 2,\n",
    "              \"{:.0f}%\".format(height),\n",
    "              ha='center', \n",
    "              va='bottom')\n",
    "plt.title('Successful Rate of Projects by Category in 2020', fontsize = 16)\n",
    "plt.show()"
   ]
  },
  {
   "cell_type": "code",
   "execution_count": null,
   "metadata": {},
   "outputs": [],
   "source": [
    "df_2020.groupby('overarching_category')['usd_goal_million'].sum().plot.bar()\n",
    "df_2020 = df_2020.sort_values('usd_goal_million')\n",
    "plt.show()"
   ]
  },
  {
   "cell_type": "code",
   "execution_count": null,
   "metadata": {},
   "outputs": [],
   "source": [
    "df_2020.groupby('goal_reached')['repeat_creator'].sum().plot.bar()\n",
    "df_2020 = df_2020.sort_values('usd_goal_million')\n",
    "plt.show()"
   ]
  },
  {
   "cell_type": "code",
   "execution_count": 17,
   "metadata": {},
   "outputs": [
    {
     "data": {
      "text/plain": [
       "overarching_category\n",
       "art               5204.730879\n",
       "comics            6907.540649\n",
       "crafts            6165.086226\n",
       "dance            10632.375127\n",
       "design           12875.010780\n",
       "fashion          12695.444313\n",
       "film & video    101387.148410\n",
       "food             35472.404216\n",
       "games            10334.608062\n",
       "journalism       31040.566957\n",
       "music             8448.549678\n",
       "photography       8813.877810\n",
       "publishing        6795.445736\n",
       "technology       86155.481291\n",
       "theater           9547.281179\n",
       "Name: usd_goal, dtype: float64"
      ]
     },
     "execution_count": 17,
     "metadata": {},
     "output_type": "execute_result"
    }
   ],
   "source": [
    "group = df_2020.groupby('overarching_category')['usd_goal'].mean()\n",
    "group"
   ]
  },
  {
   "cell_type": "code",
   "execution_count": null,
   "metadata": {},
   "outputs": [],
   "source": [
    "df.usd_goal.describe()"
   ]
  },
  {
   "cell_type": "code",
   "execution_count": null,
   "metadata": {},
   "outputs": [],
   "source": [
    "# combine different plots into one: goal and log(goal)\n",
    "dims = (14, 6)\n",
    "fig, (ax1, ax2) = plt.subplots(ncols=2, sharey=False, figsize=dims)\n",
    "sns.distplot(df.usd_goal, ax=ax1)\n",
    "sns.distplot(np.log1p(df.usd_goal), ax=ax2)"
   ]
  },
  {
   "cell_type": "code",
   "execution_count": null,
   "metadata": {},
   "outputs": [],
   "source": [
    "# calculate frequency of the goal: the most popular goal\n",
    "categorical_with_per_count(df, 'usd_goal').head(n=10)"
   ]
  },
  {
   "cell_type": "code",
   "execution_count": null,
   "metadata": {},
   "outputs": [],
   "source": [
    "ax = sns.boxplot(x=df[\"usd_goal\"])\n",
    "ax.set_xlabel(\"Fundraiser's Investment Goal\")"
   ]
  },
  {
   "cell_type": "code",
   "execution_count": null,
   "metadata": {},
   "outputs": [],
   "source": [
    "df.page_position.describe()"
   ]
  },
  {
   "cell_type": "code",
   "execution_count": null,
   "metadata": {},
   "outputs": [],
   "source": [
    "ax = sns.boxplot(x=df[\"page_position\"])\n",
    "ax.set_xlabel(\"Page position\")"
   ]
  },
  {
   "cell_type": "code",
   "execution_count": null,
   "metadata": {},
   "outputs": [],
   "source": [
    "# combine different plots into one: goal and log(goal)\n",
    "dims = (14, 6)\n",
    "fig, (ax1, ax2) = plt.subplots(ncols=2, sharey=False, figsize=dims)\n",
    "sns.distplot(df.page_position, ax=ax1)\n",
    "sns.distplot(np.log1p(df.page_position), ax=ax2)"
   ]
  },
  {
   "cell_type": "code",
   "execution_count": null,
   "metadata": {},
   "outputs": [],
   "source": [
    "df.name_length.describe()"
   ]
  },
  {
   "cell_type": "code",
   "execution_count": null,
   "metadata": {},
   "outputs": [],
   "source": [
    "ax = sns.boxplot(x=df[\"name_length\"])\n",
    "ax.set_xlabel(\"Project Title Length\")"
   ]
  },
  {
   "cell_type": "code",
   "execution_count": null,
   "metadata": {},
   "outputs": [],
   "source": [
    "# combine different plots into one: goal and log(goal)\n",
    "dims = (14, 6)\n",
    "fig, (ax1, ax2) = plt.subplots(ncols=2, sharey=False, figsize=dims)\n",
    "sns.distplot(df.name_length, ax=ax1)"
   ]
  },
  {
   "cell_type": "code",
   "execution_count": null,
   "metadata": {},
   "outputs": [],
   "source": [
    "df.name_caps.describe()"
   ]
  },
  {
   "cell_type": "code",
   "execution_count": null,
   "metadata": {},
   "outputs": [],
   "source": [
    "ax = sns.boxplot(x=df[\"name_caps\"])\n",
    "ax.set_xlabel(\"Project Title Capitalization\")"
   ]
  },
  {
   "cell_type": "code",
   "execution_count": null,
   "metadata": {},
   "outputs": [],
   "source": [
    "# combine different plots into one: goal and log(goal)\n",
    "dims = (14, 6)\n",
    "fig, (ax1, ax2) = plt.subplots(ncols=2, sharey=False, figsize=dims)\n",
    "sns.distplot(df.name_caps, ax=ax1)\n",
    "sns.distplot(np.log1p(df.name_caps), ax=ax2)"
   ]
  },
  {
   "cell_type": "code",
   "execution_count": null,
   "metadata": {},
   "outputs": [],
   "source": [
    "df.blurb_length.describe()"
   ]
  },
  {
   "cell_type": "code",
   "execution_count": null,
   "metadata": {},
   "outputs": [],
   "source": [
    "ax = sns.boxplot(x=df[\"blurb_length\"])\n",
    "ax.set_xlabel(\"Project Blurb Length\")"
   ]
  },
  {
   "cell_type": "code",
   "execution_count": null,
   "metadata": {},
   "outputs": [],
   "source": [
    "# combine different plots into one: goal and log(goal)\n",
    "dims = (14, 6)\n",
    "fig, (ax1, ax2) = plt.subplots(ncols=2, sharey=False, figsize=dims)\n",
    "sns.distplot(df.blurb_length, ax=ax1)"
   ]
  },
  {
   "cell_type": "code",
   "execution_count": null,
   "metadata": {},
   "outputs": [],
   "source": [
    "df.blurb_caps.describe()"
   ]
  },
  {
   "cell_type": "code",
   "execution_count": null,
   "metadata": {},
   "outputs": [],
   "source": [
    "ax = sns.boxplot(x=df[\"blurb_caps\"])\n",
    "ax.set_xlabel(\"Project Blurb Length\")"
   ]
  },
  {
   "cell_type": "code",
   "execution_count": null,
   "metadata": {},
   "outputs": [],
   "source": [
    "# combine different plots into one: goal and log(goal)\n",
    "dims = (14, 6)\n",
    "fig, (ax1, ax2) = plt.subplots(ncols=2, sharey=False, figsize=dims)\n",
    "sns.distplot(df.blurb_caps, ax=ax1)\n",
    "sns.distplot(np.log1p(df.blurb_caps), ax=ax2)"
   ]
  },
  {
   "cell_type": "code",
   "execution_count": null,
   "metadata": {},
   "outputs": [],
   "source": [
    "df.info()"
   ]
  },
  {
   "cell_type": "code",
   "execution_count": null,
   "metadata": {},
   "outputs": [],
   "source": [
    "#define colors (darkgreen for successful projects and darkred for failed ones\n",
    "colors = ('darkgreen','darkred')\n",
    "#create a plot using seaborn, adjust data to millions\n",
    "ax = sns.scatterplot(df.usd_pledged/1e6, df.usd_goal/1e6, hue=df.goal_reached, palette=colors)\n",
    "#add blue line to better visualize the border between failed and successful projects\n",
    "sns.lineplot(x=(0,50), y=(0,50), color='darkblue')\n",
    "#set the axes from -1 to their maximum (-1 looks better than 0 actually)\n",
    "ax.set(ylim=(-1,None), xlim=(-1,None))\n",
    "#set labels and title\n",
    "ax.set(xlabel='Amount Pledged in Millions', ylabel='Goal in Millions', title= 'Goal vs. Pledged')"
   ]
  },
  {
   "cell_type": "code",
   "execution_count": null,
   "metadata": {},
   "outputs": [],
   "source": [
    "df"
   ]
  },
  {
   "cell_type": "code",
   "execution_count": null,
   "metadata": {},
   "outputs": [],
   "source": [
    "#columns that arent useful for ML: 'blurb', 'creator', 'currency', 'deadline', 'id', 'name', 'profile', 'slug'\n",
    "df.drop(['is_starrable'], axis = 1, inplace = True)"
   ]
  },
  {
   "cell_type": "code",
   "execution_count": null,
   "metadata": {},
   "outputs": [],
   "source": [
    "df"
   ]
  },
  {
   "cell_type": "code",
   "execution_count": null,
   "metadata": {},
   "outputs": [],
   "source": [
    "print(df.columns)"
   ]
  },
  {
   "cell_type": "code",
   "execution_count": null,
   "metadata": {},
   "outputs": [],
   "source": [
    "df['duration_days'].describe()"
   ]
  },
  {
   "cell_type": "code",
   "execution_count": null,
   "metadata": {},
   "outputs": [],
   "source": [
    "ax = sns.boxplot(x=df[\"duration_days\"])\n",
    "ax.set_xlabel(\"Duration\")"
   ]
  },
  {
   "cell_type": "code",
   "execution_count": null,
   "metadata": {},
   "outputs": [],
   "source": [
    "# combine different plots into one: goal and log(goal)\n",
    "dims = (14, 6)\n",
    "fig, (ax1, ax2) = plt.subplots(ncols=2, sharey=False, figsize=dims)\n",
    "sns.distplot(df.duration_days, ax=ax1)"
   ]
  },
  {
   "cell_type": "code",
   "execution_count": null,
   "metadata": {},
   "outputs": [],
   "source": [
    "# In[6]:\n",
    "\n",
    "\n",
    "#code to fix skew in key variables\n",
    "\n",
    "df['name_caps'] = np.log1p(df['name_caps'])\n",
    "df['page_position'] = np.log1p(df['page_position'])\n",
    "df['blurb_caps'] = np.log1p(df['blurb_caps'])\n",
    "# max_blurb = np.max(df['blurb_length'])\n",
    "# df['blurb_length'] = np.log1p((1+max_blurb)-df['blurb_length'])\n",
    "# sns.distplot(df['blurb_length'])\n",
    "print('done')"
   ]
  },
  {
   "cell_type": "code",
   "execution_count": null,
   "metadata": {},
   "outputs": [],
   "source": [
    "# Code to understand skew\n",
    "\n",
    "numerics = ['int16', 'int32', 'int64', 'float16', 'float32', 'float64']\n",
    "newdf = df.select_dtypes(include=numerics)\n",
    "\n",
    "fig, axs = plt.subplots(ncols=2, nrows=0, figsize=(20, 120))\n",
    "plt.subplots_adjust(right=2)\n",
    "plt.subplots_adjust(top=2)\n",
    "sns.color_palette(\"husl\", 8)\n",
    "for i, feature in enumerate(list(newdf.columns), 1):\n",
    "    if(feature=='MiscVal'):\n",
    "        break\n",
    "    plt.subplot(len(list(newdf.columns)), 3, i)\n",
    "    sns.distplot(newdf[feature])\n",
    "    plt.xlabel('{}'.format(feature), size=15,labelpad=12.5)\n",
    "    \n",
    "    for j in range(2):\n",
    "        plt.tick_params(axis='x', labelsize=12)\n",
    "        plt.tick_params(axis='y', labelsize=12)\n",
    "    \n",
    "    plt.legend(loc='best', prop={'size': 10})\n",
    "        \n",
    "plt.show()"
   ]
  },
  {
   "cell_type": "code",
   "execution_count": null,
   "metadata": {},
   "outputs": [],
   "source": [
    "# In[5]:\n",
    "\n",
    "\n",
    "fig, axs = plt.subplots(ncols=2, nrows=2, figsize=(20, 20))\n",
    "plt.subplot(3, 3, 1)\n",
    "sns.distplot(df['name_caps'])\n",
    "plt.subplot(3, 3, 2)\n",
    "sns.distplot(df['page_position'])\n",
    "plt.subplot(3, 3, 3)\n",
    "sns.distplot(df['blurb_caps'])"
   ]
  },
  {
   "cell_type": "code",
   "execution_count": null,
   "metadata": {},
   "outputs": [],
   "source": [
    "# In[6]:\n",
    "\n",
    "\n",
    "#code to fix skew in key variables\n",
    "\n",
    "df['name_caps'] = np.log1p(df['name_caps'])\n",
    "df['page_position'] = np.log1p(df['page_position'])\n",
    "df['blurb_caps'] = np.log1p(df['blurb_caps'])\n",
    "# max_blurb = np.max(df['blurb_length'])\n",
    "# df['blurb_length'] = np.log1p((1+max_blurb)-df['blurb_length'])\n",
    "# sns.distplot(df['blurb_length'])\n",
    "print('done')\n"
   ]
  },
  {
   "cell_type": "code",
   "execution_count": null,
   "metadata": {},
   "outputs": [],
   "source": [
    "# In[22]:\n",
    "\n",
    "\n",
    "\n",
    "#columns that arent useful for ML: 'blurb', 'creator', 'currency', 'deadline', 'id', 'name', 'profile', 'slug'\n",
    "\n",
    "train_df = pd.get_dummies(df)\n",
    "X = train_df.drop(['goal_reached','usd_pledged', 'backers_count' ], axis = 1)\n",
    "print(X.columns)\n",
    "#, 'usd_pledged', 'backers_count' \n",
    "y = train_df['goal_reached']\n",
    "X_train, X_test, y_train, y_test = train_test_split(X, y)\n",
    "\n",
    "from sklearn.preprocessing import StandardScaler\n",
    "scaler = StandardScaler()\n",
    "\n",
    "X_train_scaled = scaler.fit_transform(X_train)\n",
    "X_test_scaled = scaler.fit_transform(X_test)\n",
    "#need more feature engineering / feature analysis\n",
    "print('done')"
   ]
  },
  {
   "cell_type": "code",
   "execution_count": null,
   "metadata": {},
   "outputs": [],
   "source": [
    "#A common problem in data analysis projects is to determine whether two categorical variables are independent\n",
    "# Chi-square test\n",
    "cont_table = pd.crosstab(df['goal_reached'], df['repeat_creator'])\n",
    "\n",
    "# Print the contingency table\n",
    "cont_table"
   ]
  },
  {
   "cell_type": "code",
   "execution_count": null,
   "metadata": {},
   "outputs": [],
   "source": [
    "cont_table.plot(kind=\"bar\", stacked=True, rot=0)"
   ]
  },
  {
   "cell_type": "code",
   "execution_count": null,
   "metadata": {},
   "outputs": [],
   "source": [
    "from scipy import stats\n",
    "chi2, p_val, dof, expected = stats.chi2_contingency(cont_table)\n",
    "print(f\"p-value: {p_val}\")"
   ]
  },
  {
   "cell_type": "code",
   "execution_count": null,
   "metadata": {},
   "outputs": [],
   "source": [
    "#A common problem in data analysis projects is to determine whether two categorical variables are independent\n",
    "# Chi-square test\n",
    "cont_table_2 = pd.crosstab(df['goal_reached'], df['staff_pick'])\n",
    "\n",
    "# Print the contingency table\n",
    "cont_table_2"
   ]
  },
  {
   "cell_type": "code",
   "execution_count": null,
   "metadata": {},
   "outputs": [],
   "source": [
    "cont_table_2.plot(kind=\"bar\", stacked=True, rot=0)"
   ]
  },
  {
   "cell_type": "code",
   "execution_count": null,
   "metadata": {},
   "outputs": [],
   "source": [
    "from scipy import stats\n",
    "chi2, p_val, dof, expected = stats.chi2_contingency(cont_table_2)\n",
    "print(f\"p-value: {p_val}\")"
   ]
  },
  {
   "cell_type": "code",
   "execution_count": null,
   "metadata": {},
   "outputs": [],
   "source": [
    "#define colors (darkgreen for successful projects and darkred for failed ones\n",
    "colors = ('darkgreen','darkred')\n",
    "#create a plot using seaborn, adjust data to millions\n",
    "ax = sns.scatterplot(df_2019.usd_pledged/1e6, df_2019.usd_goal/1e6, hue=df_2019.goal_reached, palette=colors)\n",
    "#add blue line to better visualize the border between failed and successful projects\n",
    "sns.lineplot(x=(0,50), y=(0,50), color='darkblue')\n",
    "#set the axes from -1 to their maximum (-1 looks better than 0 actually)\n",
    "ax.set(ylim=(-1,None), xlim=(-1,None))\n",
    "#set labels and title\n",
    "ax.set(xlabel='Amount Pledged in Millions', ylabel='Goal in Millions', title= 'Goal vs. Pledged')"
   ]
  },
  {
   "cell_type": "code",
   "execution_count": null,
   "metadata": {},
   "outputs": [],
   "source": [
    "#define colors (darkgreen for successful projects and darkred for failed ones\n",
    "colors = ('darkgreen','darkred')\n",
    "#create a plot using seaborn, adjust data to millions\n",
    "ax = sns.scatterplot(df_2020.usd_pledged/1e6, df_2020.usd_goal/1e6, hue=df_2020.goal_reached, palette=colors)\n",
    "#add blue line to better visualize the border between failed and successful projects\n",
    "sns.lineplot(x=(0,50), y=(0,50), color='darkblue')\n",
    "#set the axes from -1 to their maximum (-1 looks better than 0 actually)\n",
    "ax.set(ylim=(-1,None), xlim=(-1,None))\n",
    "#set labels and title\n",
    "ax.set(xlabel='Amount Pledged in Millions', ylabel='Goal in Millions', title= 'Goal vs. Pledged')"
   ]
  },
  {
   "cell_type": "code",
   "execution_count": null,
   "metadata": {},
   "outputs": [],
   "source": [
    "df.info()"
   ]
  },
  {
   "cell_type": "code",
   "execution_count": null,
   "metadata": {},
   "outputs": [],
   "source": [
    "df['usd_pledged'] = df['usd_pledged'].apply(np.int64)\n",
    "df['usd_goal'] = df['usd_goal'].apply(np.int64)"
   ]
  },
  {
   "cell_type": "code",
   "execution_count": null,
   "metadata": {},
   "outputs": [],
   "source": [
    "df.info()"
   ]
  },
  {
   "cell_type": "code",
   "execution_count": null,
   "metadata": {},
   "outputs": [],
   "source": [
    "fig, ax = plt.subplots(figsize=(12,5))\n",
    "df_2019.groupby(['Month']).count()['usd_pledged'].plot(ax=ax)"
   ]
  },
  {
   "cell_type": "code",
   "execution_count": null,
   "metadata": {},
   "outputs": [],
   "source": [
    "fig, ax = plt.subplots(figsize=(7,5))\n",
    "df_2020.groupby(['Month']).sum()['usd_pledged_million'].plot(ax=ax)\n",
    "plt.title(\"Total Pledge by Month in 2020\", size=13.5)"
   ]
  },
  {
   "cell_type": "code",
   "execution_count": null,
   "metadata": {},
   "outputs": [],
   "source": [
    "fig, ax = plt.subplots(figsize=(7,5))\n",
    "df_2019.groupby(['Month']).sum()['usd_pledged_million'].plot(ax=ax)\n",
    "plt.title(\"Total Pledge by Month in 2019\", size=13.5)\n",
    "ax.set_ylabel('Total Pledge in Million')\n",
    "ax.set_xlabel('Month')"
   ]
  },
  {
   "cell_type": "code",
   "execution_count": null,
   "metadata": {},
   "outputs": [],
   "source": [
    "fig, ax = plt.subplots(figsize=(7,5))\n",
    "df_2019.groupby(['Month']).sum()['repeat_creator'].plot(ax=ax)\n",
    "plt.title(\"Repeat Creator by Month in 2019\", size=13.5)\n",
    "ax.set_ylabel('Total Experienced Creator')\n",
    "ax.set_xlabel('Month')"
   ]
  },
  {
   "cell_type": "code",
   "execution_count": null,
   "metadata": {},
   "outputs": [],
   "source": [
    "fig, ax = plt.subplots(figsize=(7,5))\n",
    "df_2019.groupby(['Month']).sum()['staff_pick'].plot(ax=ax)\n",
    "plt.title(\"Projects Picked by Staff in 2019\", size=13.5)\n",
    "ax.set_ylabel('Total Campaigns Picked by Staff')\n",
    "ax.set_xlabel('Month')"
   ]
  },
  {
   "cell_type": "code",
   "execution_count": null,
   "metadata": {},
   "outputs": [],
   "source": [
    "fig, ax = plt.subplots(figsize=(7,5))\n",
    "df_2020.groupby(['Month']).sum()['staff_pick'].plot(ax=ax)\n",
    "plt.title('Projects Picked by Staff in 2020',size=13.5)\n",
    "ax.set_xlabel('Month')"
   ]
  },
  {
   "cell_type": "code",
   "execution_count": null,
   "metadata": {},
   "outputs": [],
   "source": [
    "fig, ax = plt.subplots(figsize=(7,5))\n",
    "df_2020.groupby(['Month']).sum()['repeat_creator'].plot(ax=ax)\n",
    "plt.title('Repeat Creator by Month in 2020',size=13.5)\n",
    "ax.set_xlabel('Month')"
   ]
  },
  {
   "cell_type": "code",
   "execution_count": null,
   "metadata": {},
   "outputs": [],
   "source": [
    "fig, ax = plt.subplots(figsize=(7,5))\n",
    "df_2020.groupby(['Month']).sum()['usd_goal_million'].plot(ax=ax)\n",
    "plt.title('Total Goal by Month in 2020',size=13.5)\n",
    "ax.set_xlabel('Month')"
   ]
  },
  {
   "cell_type": "code",
   "execution_count": null,
   "metadata": {},
   "outputs": [],
   "source": [
    "df.groupby(['Month']).sum()['usd_goal_million']"
   ]
  },
  {
   "cell_type": "code",
   "execution_count": null,
   "metadata": {},
   "outputs": [],
   "source": [
    "fig, ax = plt.subplots(figsize=(7,5))\n",
    "df_2019.groupby(['Month']).sum()['usd_goal_million'].plot(ax=ax)\n",
    "plt.title('Total Goal by Month in 2019',size=13.5)\n",
    "ax.set_ylabel('Goal in Million')\n",
    "ax.set_xlabel('Month')"
   ]
  },
  {
   "cell_type": "code",
   "execution_count": null,
   "metadata": {},
   "outputs": [],
   "source": [
    "sns.lineplot('Month', 'staff_pick', ci=None, \n",
    "             hue='Year', data=df)"
   ]
  },
  {
   "cell_type": "code",
   "execution_count": null,
   "metadata": {},
   "outputs": [],
   "source": [
    "df[\"Year\"].unique()"
   ]
  },
  {
   "cell_type": "code",
   "execution_count": null,
   "metadata": {},
   "outputs": [],
   "source": [
    "sns.lineplot('Month', 'usd_pledged', ci=None, \n",
    "             hue='Year', data=df)"
   ]
  },
  {
   "cell_type": "code",
   "execution_count": null,
   "metadata": {},
   "outputs": [],
   "source": [
    "lp = sns.lineplot('Month', 'usd_pledged', ci=None, \n",
    "             hue='overarching_category', data=df_2019)\n",
    "lp.legend(loc='upper right', bbox_to_anchor=(1.5, 1))"
   ]
  },
  {
   "cell_type": "code",
   "execution_count": null,
   "metadata": {},
   "outputs": [],
   "source": [
    "lp = sns.lineplot('Month', 'usd_pledged', ci=None, \n",
    "             hue='overarching_category', data=df_2020)\n",
    "lp.legend(loc='upper right', bbox_to_anchor=(1.5, 1))"
   ]
  },
  {
   "cell_type": "code",
   "execution_count": null,
   "metadata": {},
   "outputs": [],
   "source": [
    "lp = sns.lineplot('Month', 'usd_goal', ci=None, \n",
    "             hue='overarching_category', data=df_2019)\n",
    "lp.legend(loc='upper right', bbox_to_anchor=(1.5, 1))"
   ]
  },
  {
   "cell_type": "code",
   "execution_count": null,
   "metadata": {},
   "outputs": [],
   "source": [
    "lp = sns.lineplot('Month', 'usd_pledged_million', ci=None, \n",
    "             hue='Year', data=df)\n",
    "lp.legend(loc='upper right', bbox_to_anchor=(1, 1))"
   ]
  },
  {
   "cell_type": "code",
   "execution_count": null,
   "metadata": {},
   "outputs": [],
   "source": [
    "g = sns.FacetGrid(df, col='Year', hue='goal_reached')\n",
    "g = g.map(sns.lineplot, 'Year', 'usd_pledged_million', ci=None).add_legend()"
   ]
  },
  {
   "cell_type": "code",
   "execution_count": 18,
   "metadata": {},
   "outputs": [
    {
     "name": "stderr",
     "output_type": "stream",
     "text": [
      "<ipython-input-18-a01f4f2fe510>:1: SettingWithCopyWarning: \n",
      "A value is trying to be set on a copy of a slice from a DataFrame.\n",
      "Try using .loc[row_indexer,col_indexer] = value instead\n",
      "\n",
      "See the caveats in the documentation: https://pandas.pydata.org/pandas-docs/stable/user_guide/indexing.html#returning-a-view-versus-a-copy\n",
      "  df_2020['usd_pledged_million'] = df_2020['usd_pledged']/1e6\n"
     ]
    }
   ],
   "source": [
    "df_2020['usd_pledged_million'] = df_2020['usd_pledged']/1e6"
   ]
  },
  {
   "cell_type": "code",
   "execution_count": 19,
   "metadata": {},
   "outputs": [
    {
     "data": {
      "text/plain": [
       "count    25691.000000\n",
       "mean         0.027960\n",
       "std          0.186844\n",
       "min          0.000000\n",
       "25%          0.000530\n",
       "50%          0.002800\n",
       "75%          0.010973\n",
       "max         12.969608\n",
       "Name: usd_pledged_million, dtype: float64"
      ]
     },
     "execution_count": 19,
     "metadata": {},
     "output_type": "execute_result"
    }
   ],
   "source": [
    "df_2020['usd_pledged_million'].describe()"
   ]
  },
  {
   "cell_type": "code",
   "execution_count": null,
   "metadata": {},
   "outputs": [],
   "source": [
    "g = sns.FacetGrid(df, col='Year', hue='goal_reached')\n",
    "g = g.map(sns.lineplot, 'Month', 'usd_pledged_million', ci=None).add_legend()\n",
    "fig = plt.gcf()\n",
    "fig.set_size_inches(22, 10)\n",
    "fig.suptitle('Average Goal Amount by Month', size=16)"
   ]
  },
  {
   "cell_type": "code",
   "execution_count": null,
   "metadata": {
    "scrolled": true
   },
   "outputs": [],
   "source": [
    "g = sns.FacetGrid(df, col='Year', hue='goal_reached')\n",
    "g = g.map(sns.lineplot, 'Month', 'usd_goal_million', ci=None).add_legend()\n",
    "fig = plt.gcf()\n",
    "fig.set_size_inches(20, 10)\n",
    "fig.suptitle('Average Goal Amount by Month', size=20)"
   ]
  },
  {
   "cell_type": "code",
   "execution_count": null,
   "metadata": {},
   "outputs": [],
   "source": [
    "df['usd_goal_million'] = df['usd_goal']/1e6\n",
    "g = sns.FacetGrid(df, col='Year', hue='overarching_category')\n",
    "g = g.map(sns.lineplot, 'Month', 'usd_goal_million', ci=None).add_legend()\n",
    "fig = plt.gcf()\n",
    "fig.set_size_inches(20, 8)"
   ]
  },
  {
   "cell_type": "code",
   "execution_count": null,
   "metadata": {},
   "outputs": [],
   "source": [
    "g = sns.FacetGrid(df, col='Year', hue='goal_reached')\n",
    "g = g.map(sns.lineplot, 'Month', 'backers_count', ci=None).add_legend()\n",
    "fig = plt.gcf()\n",
    "fig.set_size_inches(20, 10)\n",
    "fig.suptitle('Average Number of Backers by Month', size=20)"
   ]
  },
  {
   "cell_type": "code",
   "execution_count": null,
   "metadata": {},
   "outputs": [],
   "source": [
    "# frequency of the main category\n",
    "categorical_with_per_count(df_2020, 'usd_pledged')"
   ]
  },
  {
   "cell_type": "code",
   "execution_count": null,
   "metadata": {},
   "outputs": [],
   "source": [
    "ax = sns.barplot(x=\"Year\", y=\"usd_goal_million\", hue=\"overarching_category\", data=df)\n",
    "plt.legend(bbox_to_anchor=(1.05, 1), loc=2, borderaxespad=0.)\n",
    "sns.set(rc={'figure.figsize':(12,8.27)})"
   ]
  },
  {
   "cell_type": "code",
   "execution_count": null,
   "metadata": {},
   "outputs": [],
   "source": [
    "# who v/s fare barplot\n",
    "sns.barplot(x = 'overarching_category',\n",
    "            y = 'usd_pledged_million',\n",
    "            hue = 'Year',\n",
    "            data = df,\n",
    "            estimator = np.mean,\n",
    "            ci = 0)\n",
    "sns.set(rc={'figure.figsize':(20,8.27)})\n",
    "# Show the plot\n",
    "plt.show()"
   ]
  },
  {
   "cell_type": "code",
   "execution_count": null,
   "metadata": {},
   "outputs": [],
   "source": [
    "# who v/s fare barplot\n",
    "sns.barplot(x = 'overarching_category',\n",
    "            y = 'backers_count',\n",
    "            hue = 'goal_reached',\n",
    "            data = df,\n",
    "            order=df.sort_values('backers_count').overarching_category,\n",
    "            estimator = np.sum,\n",
    "            ci = 0)\n",
    "sns.set(rc={'figure.figsize':(20,8.27)})\n",
    "# Show the plot\n",
    "plt.title('Association of Backers and Success of Projects', fontsize = 17)\n",
    "plt.xlabel('Category')\n",
    "plt.ylabel('Number of Backers')\n",
    "plt.show()\n",
    "plt.show()"
   ]
  },
  {
   "cell_type": "code",
   "execution_count": null,
   "metadata": {},
   "outputs": [],
   "source": [
    "# who v/s fare barplot\n",
    "sns.barplot(x = 'overarching_category',\n",
    "            y = 'usd_pledged_million',\n",
    "            hue = 'Year',\n",
    "            data = df,\n",
    "            estimator = np.mean,\n",
    "            ci = 0)\n",
    "sns.set(rc={'figure.figsize':(20,8.27)})\n",
    "# Show the plot\n",
    "plt.title('Average Amount of Funding for A Project by Category in 2019 and 2020', fontsize = 17)\n",
    "plt.xlabel('Category')\n",
    "plt.ylabel('Pledge in Million')\n",
    "plt.show()"
   ]
  },
  {
   "cell_type": "code",
   "execution_count": null,
   "metadata": {},
   "outputs": [],
   "source": [
    "# who v/s fare barplot\n",
    "sns.barplot(x = 'overarching_category',\n",
    "            y = 'usd_goal_million',\n",
    "            hue = 'Year',\n",
    "            data = df,\n",
    "            estimator = np.mean,\n",
    "            ci = 0)\n",
    "sns.set(rc={'figure.figsize':(20,8.27)})\n",
    "# Show the plot\n",
    "plt.title('Average Amount of Goal for A Project by Category in 2019 and 2020', fontsize = 17)\n",
    "plt.xlabel('Category')\n",
    "plt.ylabel('Goal in Million')\n",
    "plt.show()"
   ]
  },
  {
   "cell_type": "code",
   "execution_count": null,
   "metadata": {},
   "outputs": [],
   "source": [
    "# who v/s fare barplot\n",
    "sns.barplot(x = 'overarching_category',\n",
    "            y = 'backers_count',\n",
    "            hue = 'Year',\n",
    "            data = df,\n",
    "            estimator = np.mean,\n",
    "            ci = 0)\n",
    "sns.set(rc={'figure.figsize':(20,8.27)})\n",
    "# Show the plot\n",
    "plt.title('Average Backers for A Project by Category in 2019 and 2020', fontsize = 17)\n",
    "plt.xlabel('Category')\n",
    "plt.ylabel('Backers')\n",
    "plt.show()"
   ]
  },
  {
   "cell_type": "code",
   "execution_count": null,
   "metadata": {},
   "outputs": [],
   "source": [
    "df_2019"
   ]
  },
  {
   "cell_type": "code",
   "execution_count": null,
   "metadata": {},
   "outputs": [],
   "source": [
    "# who v/s fare barplot\n",
    "sns.barplot(x = 'repeat_creator',\n",
    "            y = 'goal_reached',\n",
    "            hue = 'Year',\n",
    "            data = df,\n",
    "            estimator = np.mean,\n",
    "            ci = 0)\n",
    "sns.set(rc={'figure.figsize':(8,5)})\n",
    "# Show the plot\n",
    "plt.show()"
   ]
  },
  {
   "cell_type": "code",
   "execution_count": null,
   "metadata": {
    "scrolled": false
   },
   "outputs": [],
   "source": [
    "ax = sns.barplot(x=\"overarching_category\", y=\"usd_pledged_million\", hue=\"Year\", data=df_2019)\n",
    "plt.legend(bbox_to_anchor=(1.05, 1), loc=2, borderaxespad=0.)\n",
    "sns.set(rc={'figure.figsize':(12,8.27)})"
   ]
  },
  {
   "cell_type": "code",
   "execution_count": null,
   "metadata": {},
   "outputs": [],
   "source": [
    "df['usd_pledged_million'] = df['usd_pledged']/1e6\n",
    "df['usd_pledged_million'].describe()"
   ]
  },
  {
   "cell_type": "code",
   "execution_count": null,
   "metadata": {},
   "outputs": [],
   "source": [
    "df['usd_goal_million'] = df['usd_goal']/1e6\n",
    "df['usd_goal_million'].describe()"
   ]
  },
  {
   "cell_type": "code",
   "execution_count": null,
   "metadata": {},
   "outputs": [],
   "source": [
    "df_2019['usd_pledged_million'] = df_2019['usd_pledged']/1e6\n",
    "df_2019['usd_pledged_million'].describe()"
   ]
  },
  {
   "cell_type": "code",
   "execution_count": null,
   "metadata": {},
   "outputs": [],
   "source": [
    "df_2020['usd_pledged_million'] = df_2020['usd_pledged']/1e6\n",
    "df_2020['usd_pledged_million'].describe()"
   ]
  },
  {
   "cell_type": "code",
   "execution_count": null,
   "metadata": {},
   "outputs": [],
   "source": [
    "df_2020['usd_goal_million'] = df_2020['usd_goal']/1e6\n",
    "df_2020['usd_goal_million'].describe()"
   ]
  },
  {
   "cell_type": "code",
   "execution_count": null,
   "metadata": {},
   "outputs": [],
   "source": [
    "df_2019['usd_goal_million'] = df_2019['usd_goal']/1e6\n",
    "df_2019['usd_goal_million'].describe()"
   ]
  },
  {
   "cell_type": "code",
   "execution_count": null,
   "metadata": {},
   "outputs": [],
   "source": [
    "df_2020.groupby('overarching_category')['usd_pledged_million'].mean()"
   ]
  },
  {
   "cell_type": "code",
   "execution_count": null,
   "metadata": {},
   "outputs": [],
   "source": [
    "df_2019.groupby('overarching_category')['usd_pledged_million'].mean()"
   ]
  },
  {
   "cell_type": "code",
   "execution_count": null,
   "metadata": {},
   "outputs": [],
   "source": [
    "# who v/s fare barplot\n",
    "sns.barplot(x = 'overarching_category',\n",
    "            y = 'usd_goal_million',\n",
    "            hue = 'goal_reached',\n",
    "            data = df_2019,\n",
    "            estimator = np.mean,\n",
    "            ci = 0)\n",
    "sns.set(rc={'figure.figsize':(20,8.27)})\n",
    "# Show the plot\n",
    "plt.show()"
   ]
  },
  {
   "cell_type": "code",
   "execution_count": null,
   "metadata": {},
   "outputs": [],
   "source": [
    "# who v/s fare barplot\n",
    "sns.barplot(x = 'overarching_category',\n",
    "            y = 'usd_goal_million',\n",
    "            hue = 'goal_reached',\n",
    "            data = df_2020,\n",
    "            estimator = np.mean,\n",
    "            ci = 0)\n",
    "sns.set(rc={'figure.figsize':(20,8.27)})\n",
    "# Show the plot\n",
    "plt.show()"
   ]
  },
  {
   "cell_type": "code",
   "execution_count": null,
   "metadata": {},
   "outputs": [],
   "source": [
    "# who v/s fare barplot\n",
    "sns.barplot(x = 'Year',\n",
    "            y = 'usd_goal_million',\n",
    "            hue = 'goal_reached',\n",
    "            data = df,\n",
    "            estimator = np.sum,\n",
    "            ci = 0)\n",
    "sns.set(rc={'figure.figsize':(7,4)})\n",
    "# Show the plot\n",
    "plt.show()"
   ]
  },
  {
   "cell_type": "code",
   "execution_count": null,
   "metadata": {},
   "outputs": [],
   "source": [
    "#define colors (darkgreen for successful projects and darkred for failed ones\n",
    "colors = ('darkred','darkgreen')\n",
    "#create a plot using seaborn, adjust data to millions\n",
    "ax = sns.scatterplot(df_2019.usd_pledged/1e6, df_2019.usd_goal/1e6, hue=df_2019.goal_reached, palette=colors)\n",
    "#add blue line to better visualize the border between failed and successful projects\n",
    "sns.lineplot(x=(0,50), y=(0,50), color='darkblue')\n",
    "#set the axes from -1 to their maximum (-1 looks better than 0 actually)\n",
    "ax.set(ylim=(-1,None), xlim=(-1,None))\n",
    "#set labels and title\n",
    "ax.set(xlabel='Amount Pledged in Millions', ylabel='Goal in Millions', title= 'Goal vs. Pledged')\n",
    "sns.set(rc={'figure.figsize':(8,6)})"
   ]
  },
  {
   "cell_type": "code",
   "execution_count": null,
   "metadata": {},
   "outputs": [],
   "source": [
    "#define colors (darkgreen for successful projects and darkred for failed ones\n",
    "colors = ('darkred','darkgreen')\n",
    "#create a plot using seaborn, adjust data to millions\n",
    "ax = sns.scatterplot(df_2020.usd_pledged/1e6, df_2020.usd_goal/1e6, hue=df_2020.goal_reached, palette=colors)\n",
    "#add blue line to better visualize the border between failed and successful projects\n",
    "sns.lineplot(x=(0,50), y=(0,50), color='darkblue')\n",
    "#set the axes from -1 to their maximum (-1 looks better than 0 actually)\n",
    "ax.set(ylim=(-1,20), xlim=(-1,20))\n",
    "#set labels and title\n",
    "ax.set(xlabel='Amount Pledged in Millions', ylabel='Goal in Millions', title= 'Goal vs. Pledged')\n",
    "sns.set(rc={'figure.figsize':(8,6)})"
   ]
  },
  {
   "cell_type": "code",
   "execution_count": null,
   "metadata": {},
   "outputs": [],
   "source": [
    "#define colors (darkgreen for successful projects and darkred for failed ones\n",
    "colors = ('darkred','darkgreen')\n",
    "#create a plot using seaborn, adjust data to millions\n",
    "ax = sns.scatterplot(df_2020.usd_pledged/1e6, df_2020.usd_goal/1e6, hue=df_2020.goal_reached, palette=colors)\n",
    "#add blue line to better visualize the border between failed and successful projects\n",
    "sns.lineplot(x=(0,50), y=(0,50), color='darkblue')\n",
    "#set the axes from -1 to their maximum (-1 looks better than 0 actually)\n",
    "ax.set(ylim=(-1,None), xlim=(-1,None))\n",
    "#set labels and title\n",
    "ax.set(xlabel='Amount Pledged in Millions', ylabel='Goal in Millions', title= 'Goal vs. Pledged')\n",
    "sns.set(rc={'figure.figsize':(8,6)})"
   ]
  },
  {
   "cell_type": "code",
   "execution_count": null,
   "metadata": {},
   "outputs": [],
   "source": [
    "df_2019['usd_goal_million'].describe()"
   ]
  },
  {
   "cell_type": "code",
   "execution_count": null,
   "metadata": {},
   "outputs": [],
   "source": [
    "#we choose the desired grouping intervall ('launched year') and the two variables pledge and goal that we are interested in and sum them up over the years.\n",
    "data_kick_groupby_year = df_2019.groupby('Month')['usd_pledged_million', 'usd_goal_million'].sum()\n",
    "#let's use this variable to plot the data over time:\n",
    "ax = sns.lineplot(x=data_kick_groupby_year.index, y= data_kick_groupby_year.usd_pledged_million, linewidth= 4, label= 'USD Pledged', color= 'darkgreen')\n",
    "sns.lineplot(x=data_kick_groupby_year.index, y= data_kick_groupby_year.usd_goal_million, linewidth= 4,label='USD Goal', color= 'darkred')\n",
    "#set labels and title\n",
    "ax.set(xlabel='2019', ylabel='USD in Million', title='Comparison Pledged vs Goal over Time')"
   ]
  },
  {
   "cell_type": "code",
   "execution_count": null,
   "metadata": {},
   "outputs": [],
   "source": [
    "#we choose the desired grouping intervall ('launched year') and the two variables pledge and goal that we are interested in and sum them up over the years.\n",
    "data_kick_groupby_year = df_2020.groupby('Month')['usd_pledged_million', 'usd_goal_million'].sum()\n",
    "#let's use this variable to plot the data over time:\n",
    "ax = sns.lineplot(x=data_kick_groupby_year.index, y= data_kick_groupby_year.usd_pledged_million, linewidth= 4, label= 'USD Pledged', color= 'darkgreen')\n",
    "sns.lineplot(x=data_kick_groupby_year.index, y= data_kick_groupby_year.usd_goal_million, linewidth= 4,label='USD Goal', color= 'darkred')\n",
    "#set labels and title\n",
    "ax.set(xlabel='2020', ylabel='USD in Million', title='Comparison Pledged vs Goal over Time')"
   ]
  },
  {
   "cell_type": "code",
   "execution_count": null,
   "metadata": {},
   "outputs": [],
   "source": [
    "df_2019.groupby('Month')['usd_pledged_million'].sum()"
   ]
  },
  {
   "cell_type": "code",
   "execution_count": null,
   "metadata": {},
   "outputs": [],
   "source": [
    "df_2019.groupby('Month')['usd_goal_million'].sum()"
   ]
  },
  {
   "cell_type": "code",
   "execution_count": null,
   "metadata": {},
   "outputs": [],
   "source": [
    "#create scatterplot for pledged amount and name length\n",
    "ax = sns.scatterplot(df_2019.usd_pledged/1e6, df_2019.name_length, hue=df_2019.goal_reached, palette=colors)\n",
    "#set labels accordingly\n",
    "ax.set(xlabel='Amount Pledged in Millions', ylabel='Character Length of Project Name', title= '2019')\n",
    "sns.set(rc={'figure.figsize':(10.5,6)})"
   ]
  },
  {
   "cell_type": "code",
   "execution_count": null,
   "metadata": {},
   "outputs": [],
   "source": [
    "#create scatterplot for pledged amount and name length\n",
    "ax = sns.scatterplot(df_2020.usd_pledged/1e6, df_2020.name_length, hue=df_2020.goal_reached, palette=colors)\n",
    "#set labels accordingly\n",
    "ax.set(xlabel='Amount Pledged in Millions', ylabel='Character Length of Project Name', title= '2020')"
   ]
  },
  {
   "cell_type": "code",
   "execution_count": null,
   "metadata": {},
   "outputs": [],
   "source": [
    "#create scatterplot for pledged amount and name length\n",
    "ax = sns.scatterplot(df_2020.usd_pledged/1e6, df_2020.name_caps, hue=df_2020.goal_reached, palette=colors)\n",
    "#set labels accordingly\n",
    "ax.set(xlabel='Amount Pledged in Millions', ylabel='Character Length of Project Name', title= '2020')"
   ]
  },
  {
   "cell_type": "code",
   "execution_count": null,
   "metadata": {},
   "outputs": [],
   "source": [
    "#create scatterplot for pledged amount and name length\n",
    "ax = sns.scatterplot(df_2019.usd_pledged/1e6, df_2019.name_caps, hue=df_2019.goal_reached, palette=colors)\n",
    "#set labels accordingly\n",
    "ax.set(xlabel='Amount Pledged in Millions', ylabel='Character Length of Project Name', title= '2019')"
   ]
  },
  {
   "cell_type": "code",
   "execution_count": null,
   "metadata": {},
   "outputs": [],
   "source": [
    "#create scatterplot for pledged amount and name length\n",
    "ax = sns.scatterplot(df_2019.usd_pledged_million, df_2019.blurb_length, hue=df_2019.goal_reached, palette=colors)\n",
    "#set labels accordingly\n",
    "ax.set(xlabel='Amount Pledged in Millions', ylabel='Character Length of Project Blurb', title= 'The Importance of Choosing the Right Name')"
   ]
  },
  {
   "cell_type": "code",
   "execution_count": null,
   "metadata": {},
   "outputs": [],
   "source": [
    "#create scatterplot for pledged amount and name length\n",
    "ax = sns.scatterplot(df_2020.usd_pledged_million, df_2020.blurb_length, hue=df_2020.goal_reached, palette=colors)\n",
    "#set labels accordingly\n",
    "ax.set(xlabel='Amount Pledged in Millions', ylabel='Character Length of Project Blurb', title= 'The Importance of Choosing the Right Name')"
   ]
  },
  {
   "cell_type": "code",
   "execution_count": null,
   "metadata": {},
   "outputs": [],
   "source": [
    "# who v/s fare barplot\n",
    "sns.barplot(x = 'Month',\n",
    "            y = 'usd_pledged_million',\n",
    "            hue = 'Year',\n",
    "            data = df,\n",
    "            estimator = np.sum,\n",
    "            ci = 0)\n",
    "sns.set(rc={'figure.figsize':(20,8.27)})\n",
    "# Show the plot\n",
    "plt.title('Total Amount of Pledge by Month in 2019 and 2020', fontsize = 17)\n",
    "ax.set(xlabel='Pledge in Million')\n",
    "plt.show()"
   ]
  },
  {
   "cell_type": "code",
   "execution_count": null,
   "metadata": {},
   "outputs": [],
   "source": [
    "# who v/s fare barplot\n",
    "sns.barplot(x = 'Month',\n",
    "            y = 'usd_goal_million',\n",
    "            hue = 'Year',\n",
    "            data = df,\n",
    "            estimator = np.sum,\n",
    "            ci = 0)\n",
    "sns.set(rc={'figure.figsize':(20,8.27)})\n",
    "# Show the plot\n",
    "plt.title('Total Amount of Goal by Month in 2019 and 2020', fontsize = 17)\n",
    "ax.set(xlabel='Goal in Million')\n",
    "plt.show()"
   ]
  },
  {
   "cell_type": "code",
   "execution_count": null,
   "metadata": {},
   "outputs": [],
   "source": [
    "ax = sns.scatterplot(x=df_2019.backers_count, y=df_2019.usd_pledged_million, hue=df_2019.goal_reached, palette=colors)\n",
    "#we set the xlim to 100,000 backers to get a better overview\n",
    "ax.set(ylim=(-1,None), xlim=(-1,100000))\n",
    "#set labels and title\n",
    "ax.set(xlabel='Number of Backers', ylabel='USD Pledged in Million', title= 'Backer vs Pledge')\n",
    "sns.set(rc={'figure.figsize':(10,6)})"
   ]
  },
  {
   "cell_type": "code",
   "execution_count": null,
   "metadata": {},
   "outputs": [],
   "source": [
    "ax = sns.scatterplot(x=df_2020.backers_count, y=df_2020.usd_pledged/1e6, hue=df_2020.goal_reached, palette=colors)\n",
    "#we set the xlim to 100,000 backers to get a better overview\n",
    "ax.set(ylim=(-1,None), xlim=(-1,100000))\n",
    "#set labels and title\n",
    "ax.set(xlabel='Number of Backers', ylabel='USD Pledged in Million', title= 'Backer vs Pledge')"
   ]
  },
  {
   "cell_type": "code",
   "execution_count": null,
   "metadata": {},
   "outputs": [],
   "source": [
    "#divide usd_pledged_real by number of backers (note that a Zerodivisionerror will occur if we divide by zero resulting in a NaN. We replace these with 0\n",
    "df_2019['pledge_per_backer'] = df_2019['usd_pledged']/df_2019['backers_count']\n",
    "#set label and title\n",
    "ax.set(xlabel='Pledge/Backer Ratio (funding per backer)', ylabel='USD Pledged in Million', title= 'Backer Ratio vs Pledge')"
   ]
  },
  {
   "cell_type": "code",
   "execution_count": null,
   "metadata": {},
   "outputs": [],
   "source": [
    "#divide usd_pledged_real by number of backers (note that a Zerodivisionerror will occur if we divide by zero resulting in a NaN. We replace these with 0\n",
    "df_2020['pledge_per_backer'] = (df_2020['usd_pledged']//df_2020['backers_count']).fillna(0)\n",
    "#set label and title\n",
    "ax.set(xlabel='Pledge/Backer Ratio (funding per backer)', ylabel='USD Pledged in Million', title= 'Backer Ratio vs Pledge')"
   ]
  },
  {
   "cell_type": "code",
   "execution_count": null,
   "metadata": {},
   "outputs": [],
   "source": [
    "df['pledge_per_backer'] = df['usd_pledged']/df['backers_count']"
   ]
  },
  {
   "cell_type": "code",
   "execution_count": null,
   "metadata": {},
   "outputs": [],
   "source": [
    "# who v/s fare barplot\n",
    "sns.barplot(x = 'overarching_category',\n",
    "            y = 'pledge_per_backer',\n",
    "            hue = 'goal_reached',\n",
    "            data = df_2019,\n",
    "            estimator = np.sum,\n",
    "            ci = 0)\n",
    "sns.set(rc={'figure.figsize':(20,8.27)})\n",
    "# Show the plot\n",
    "plt.show()"
   ]
  },
  {
   "cell_type": "code",
   "execution_count": null,
   "metadata": {},
   "outputs": [],
   "source": [
    "# who v/s fare barplot\n",
    "sns.barplot(x = 'overarching_category',\n",
    "            y = 'pledge_per_backer',\n",
    "            hue = 'Year',\n",
    "            data = df_2020,\n",
    "            estimator = np.sum,\n",
    "            ci = 0)\n",
    "sns.set(rc={'figure.figsize':(20,8.27)})\n",
    "# Show the plot\n",
    "plt.show()"
   ]
  },
  {
   "cell_type": "code",
   "execution_count": null,
   "metadata": {},
   "outputs": [],
   "source": [
    "df_successful = df.loc[df['goal_reached'] == 1]\n",
    "df_successful"
   ]
  },
  {
   "cell_type": "code",
   "execution_count": null,
   "metadata": {},
   "outputs": [],
   "source": [
    "#divide usd_pledged_real by number of backers (note that a Zerodivisionerror will occur if we divide by zero resulting in a NaN. We replace these with 0\n",
    "df_successful['pledge_per_backer'] = df_successful['usd_pledged']/df_successful['backers_count']\n",
    "#set label and title\n",
    "ax.set(xlabel='Pledge/Backer Ratio (funding per backer)', ylabel='USD Pledged in Million', title= 'Backer Ratio vs Pledge')"
   ]
  },
  {
   "cell_type": "code",
   "execution_count": null,
   "metadata": {},
   "outputs": [],
   "source": [
    "# who v/s fare barplot\n",
    "sns.barplot(x = 'overarching_category',\n",
    "            y = 'backers_count',\n",
    "            hue = 'Year',\n",
    "            data = df_successful,\n",
    "            estimator = np.mean,\n",
    "            ci = 0)\n",
    "sns.set(rc={'figure.figsize':(20,8.27)})\n",
    "# Show the plot\n",
    "plt.title('Number of Backer for Successful Campaigns by Category in 2019 and 2020', fontsize = 17)\n",
    "plt.xlabel('Category')\n",
    "plt.ylabel('Average Number of Backers')\n",
    "plt.show()\n",
    "plt.show()"
   ]
  },
  {
   "cell_type": "code",
   "execution_count": null,
   "metadata": {},
   "outputs": [],
   "source": [
    "# who v/s fare barplot\n",
    "sns.barplot(x = 'overarching_category',\n",
    "            y = 'pledge_per_backer',\n",
    "            hue = 'Year',\n",
    "            data = df_successful,\n",
    "            estimator = np.sum,\n",
    "            ci = 0)\n",
    "sns.set(rc={'figure.figsize':(20,8.27)})\n",
    "# Show the plot\n",
    "plt.show()"
   ]
  },
  {
   "cell_type": "code",
   "execution_count": null,
   "metadata": {},
   "outputs": [],
   "source": [
    "# who v/s fare barplot\n",
    "sns.barplot(x = 'overarching_category',\n",
    "            y = 'backers_count',\n",
    "            hue = 'goal_reached',\n",
    "            data = df,\n",
    "            estimator = np.sum,\n",
    "            order=df.sort_values('backers_count').overarching_category,\n",
    "            ci = 0)\n",
    "sns.set(rc={'figure.figsize':(20,8.27)})\n",
    "# Show the plot\n",
    "plt.show()"
   ]
  },
  {
   "cell_type": "code",
   "execution_count": null,
   "metadata": {},
   "outputs": [],
   "source": [
    "df_failure = df.loc[df['goal_reached'] == 0]\n",
    "df_failure"
   ]
  },
  {
   "cell_type": "code",
   "execution_count": null,
   "metadata": {},
   "outputs": [],
   "source": [
    "# who v/s fare barplot\n",
    "sns.barplot(x = 'overarching_category',\n",
    "            y = 'usd_goal_million',\n",
    "            hue = 'Year',\n",
    "            data = df,\n",
    "            estimator = np.mean,\n",
    "            ci = 0)\n",
    "sns.set(rc={'figure.figsize':(20,8.27)})\n",
    "# Show the plot\n",
    "plt.show()"
   ]
  },
  {
   "cell_type": "code",
   "execution_count": null,
   "metadata": {},
   "outputs": [],
   "source": [
    "# who v/s fare barplot\n",
    "sns.barplot(x = 'overarching_category',\n",
    "            y = 'usd_goal_million',\n",
    "            hue = 'Year',\n",
    "            data = df_successful,\n",
    "            estimator = np.mean,\n",
    "            ci = 0)\n",
    "sns.set(rc={'figure.figsize':(20,8.27)})\n",
    "# Show the plot\n",
    "plt.title('Average Goal of Successful Projects by Category in 2019 and 2020', size=17)\n",
    "plt.xlabel('Goal in Million')\n",
    "plt.ylabel('Category')\n",
    "plt.show()"
   ]
  },
  {
   "cell_type": "code",
   "execution_count": null,
   "metadata": {},
   "outputs": [],
   "source": [
    "#create scatterplot for pledged amount and name length\n",
    "ax = sns.scatterplot(df_2020.usd_pledged_million, df_2020.staff_pick, hue=df_2020.goal_reached)\n",
    "#set labels accordingly\n",
    "ax.set(xlabel='Amount Pledged in Millions', ylabel='Page Position', title= '2020')"
   ]
  },
  {
   "cell_type": "code",
   "execution_count": null,
   "metadata": {},
   "outputs": [],
   "source": [
    "#create scatterplot for pledged amount and name length\n",
    "ax = sns.scatterplot(df_2019.usd_pledged_million, df_2019.blurb_caps, hue=df_2019.goal_reached, palette=colors)\n",
    "#set labels accordingly\n",
    "ax.set(xlabel='Amount Pledged in Millions', ylabel='Number of Blurb Caps', title= '2019')\n",
    "sns.set(rc={'figure.figsize':(7,4)})"
   ]
  },
  {
   "cell_type": "code",
   "execution_count": null,
   "metadata": {},
   "outputs": [],
   "source": [
    "#create scatterplot for pledged amount and name length\n",
    "ax = sns.scatterplot(df_2020.usd_pledged_million, df_2020.blurb_caps, hue=df_2020.goal_reached, palette=colors)\n",
    "#set labels accordingly\n",
    "ax.set(xlabel='Amount Pledged in Millions', ylabel='Number of Blurb Caps', title= '2020')\n",
    "sns.set(rc={'figure.figsize':(7,4)})"
   ]
  },
  {
   "cell_type": "code",
   "execution_count": null,
   "metadata": {},
   "outputs": [],
   "source": [
    "#create scatterplot for pledged amount and name length\n",
    "ax = sns.scatterplot(df_2019.usd_pledged_million, df_2019.name_caps, hue=df_2019.goal_reached, palette=colors)\n",
    "#set labels accordingly\n",
    "ax.set(xlabel='Amount Pledged in Millions', ylabel='Number of Caps in Title', title= '2019')\n",
    "sns.set(rc={'figure.figsize':(7,4)})"
   ]
  },
  {
   "cell_type": "code",
   "execution_count": null,
   "metadata": {},
   "outputs": [],
   "source": [
    "#create scatterplot for pledged amount and name length\n",
    "ax = sns.scatterplot(df_2020.usd_pledged_million, df_2020.name_caps, hue=df_2020.goal_reached, palette=colors)\n",
    "#set labels accordingly\n",
    "ax.set(xlabel='Amount Pledged in Millions', ylabel='Number of Caps in Title', title= '2020')\n",
    "sns.set(rc={'figure.figsize':(7,4)})"
   ]
  },
  {
   "cell_type": "code",
   "execution_count": null,
   "metadata": {},
   "outputs": [],
   "source": [
    "#create scatterplot for pledged amount and name length\n",
    "ax = sns.scatterplot(df_2020.usd_pledged_million, df_2020.blurb_length, hue=df_2020.goal_reached)\n",
    "#set labels accordingly\n",
    "ax.set(xlabel='Amount Pledged in Millions', ylabel='Number of Characters in Blurb', title= '2020')\n",
    "sns.set(rc={'figure.figsize':(12,7)})\n",
    "plt.xlabel('Years', fontsize = 15) # x-axis label with fontsize 15\n",
    "plt.ylabel('Monthes', fontsize = 15)\n",
    "plt.title"
   ]
  },
  {
   "cell_type": "code",
   "execution_count": null,
   "metadata": {},
   "outputs": [],
   "source": [
    "#create scatterplot for pledged amount and name length\n",
    "ax = sns.scatterplot(df_2019.usd_pledged_million, df_2019.blurb_length, hue=df_2019.goal_reached)\n",
    "#set labels accordingly\n",
    "ax.set(xlabel='Amount Pledged in Millions', ylabel='Number of Characters in Blurb', title= '2019')\n",
    "sns.set(rc={'figure.figsize':(12,7)})"
   ]
  },
  {
   "cell_type": "code",
   "execution_count": null,
   "metadata": {},
   "outputs": [],
   "source": [
    "x1 = df_2019.loc[df.goal_reached== 1, 'page_position']\n",
    "x2 = df_2019.loc[df.goal_reached== 0, 'page_position']\n",
    "\n",
    "kwargs = dict(alpha=1, bins=15)\n",
    "\n",
    "plt.hist(x1, **kwargs, color='b', label='Successful')\n",
    "plt.hist(x2, **kwargs, color='r', label='Failed')\n",
    "plt.title('Frequency of Page Position for Projects in 2019', fontsize = 14)\n",
    "plt.xlabel('Page Position')\n",
    "plt.gca().set( ylabel='Frequency')\n",
    "mpl.rcParams['font.size'] = 17.0\n",
    "sns.set(rc={'figure.figsize':(8,6)})\n",
    "plt.xlabel('Page Position')\n",
    "plt.xlim(1,20)\n",
    "plt.legend();"
   ]
  },
  {
   "cell_type": "code",
   "execution_count": null,
   "metadata": {},
   "outputs": [],
   "source": [
    "x1 = df_2020.loc[df_2020.goal_reached== 1, 'page_position']\n",
    "x2 = df_2020.loc[df_2020.goal_reached== 0, 'page_position']\n",
    "\n",
    "kwargs = dict(alpha=1, bins=15)\n",
    "\n",
    "plt.hist(x1, **kwargs, color='b', label='Successful')\n",
    "plt.hist(x2, **kwargs, color='r', label='Failed')\n",
    "plt.title('Frequency of Page Position for Projects in 2020', fontsize = 14)\n",
    "mpl.rcParams['font.size'] = 17.0\n",
    "sns.set(rc={'figure.figsize':(8,6)})\n",
    "plt.xlabel('Page Position')\n",
    "plt.xlim(1,20) \n",
    "plt.legend();"
   ]
  },
  {
   "cell_type": "code",
   "execution_count": null,
   "metadata": {},
   "outputs": [],
   "source": [
    "x1 = df_successful.loc[df_successful.Year== 2019, 'page_position']\n",
    "x2 = df_successful.loc[df_successful.Year== 2020, 'page_position']\n",
    "\n",
    "kwargs = dict(alpha=1, bins=15)\n",
    "\n",
    "plt.hist(x1, **kwargs, color='b', label='2019')\n",
    "plt.hist(x2, **kwargs, color='g', label='2020')\n",
    "\n",
    "sns.set(rc={'figure.figsize':(12,8)})\n",
    "mpl.rcParams['font.size'] = 20.0\n",
    "plt.xlim(1,20)\n",
    "plt.legend();\n",
    "plt.title('Frequency of Successful Campaign’s Page Position in 2019 and 2020', fontsize = 17)\n",
    "plt.xlabel('Page Position', fontsize = 12) # x-axis label with fontsize 15\n",
    "plt.ylabel('Frequency', fontsize = 12)"
   ]
  },
  {
   "cell_type": "code",
   "execution_count": null,
   "metadata": {},
   "outputs": [],
   "source": [
    "df"
   ]
  },
  {
   "cell_type": "code",
   "execution_count": null,
   "metadata": {},
   "outputs": [],
   "source": [
    "df_successful_2019 = df.loc[(df['goal_reached'] == 1) & (df['Year'] == 2019)]\n",
    "df_successful_2019"
   ]
  },
  {
   "cell_type": "code",
   "execution_count": null,
   "metadata": {},
   "outputs": [],
   "source": [
    "df_successful_2020 = df.loc[(df['goal_reached'] == 1) & (df['Year'] == 2020)]\n",
    "df_successful_2020"
   ]
  },
  {
   "cell_type": "code",
   "execution_count": null,
   "metadata": {},
   "outputs": [],
   "source": [
    "fig, (ax1, ax2) = plt.subplots(ncols=2, figsize=(10, 5))\n",
    "df_successful_2019.groupby('repeat_creator').size().plot(kind='pie', autopct='%1.1f%%', textprops={'fontsize': 10},\n",
    "                                  colors=['tomato', 'skyblue'], ax=ax1)\n",
    "\n",
    "ax1.set_ylabel('2019', size=14)\n",
    "\n",
    "plt.show()"
   ]
  },
  {
   "cell_type": "code",
   "execution_count": null,
   "metadata": {},
   "outputs": [],
   "source": [
    "fig, (ax1, ax2) = plt.subplots(ncols=2, figsize=(10, 5))\n",
    "df_successful_2020.groupby('repeat_creator').size().plot(kind='pie', autopct='%1.1f%%', textprops={'fontsize': 10},\n",
    "                                  colors=['tomato', 'skyblue'], ax=ax1)\n",
    "\n",
    "ax1.set_ylabel('2020', size=14)\n",
    "\n",
    "plt.show()"
   ]
  },
  {
   "cell_type": "code",
   "execution_count": null,
   "metadata": {},
   "outputs": [],
   "source": [
    "fig, (ax1, ax2) = plt.subplots(ncols=2, figsize=(10, 5))\n",
    "df_successful_2019.groupby('staff_pick').size().plot(kind='pie', autopct='%1.1f%%', textprops={'fontsize': 10},\n",
    "                                  colors=['tomato', 'skyblue'], ax=ax1)\n",
    "\n",
    "ax1.set_ylabel('2019', size=14)\n",
    "\n",
    "plt.show()"
   ]
  },
  {
   "cell_type": "code",
   "execution_count": null,
   "metadata": {},
   "outputs": [],
   "source": [
    "fig, (ax1, ax2) = plt.subplots(ncols=2, figsize=(10, 5))\n",
    "df_successful_2020.groupby('staff_pick').size().plot(kind='pie', autopct='%1.1f%%', textprops={'fontsize': 10},\n",
    "                                  colors=['tomato', 'skyblue'], ax=ax1)\n",
    "\n",
    "ax1.set_ylabel('2020', size=14)\n",
    "\n",
    "plt.show()"
   ]
  },
  {
   "cell_type": "code",
   "execution_count": null,
   "metadata": {},
   "outputs": [],
   "source": [
    "repeat_2019 = df_2019.groupby(['goal_reached'])['repeat_creator'].sum()\n",
    "repeat_2019"
   ]
  },
  {
   "cell_type": "code",
   "execution_count": null,
   "metadata": {},
   "outputs": [],
   "source": [
    "mylabels = [\"Repeat\", \"Non-repeat\"]\n",
    "plt.pie(repeat_2019, labels = mylabels)\n",
    "plt.show() "
   ]
  },
  {
   "cell_type": "code",
   "execution_count": null,
   "metadata": {},
   "outputs": [],
   "source": [
    "df_2019.groupby(['repeat_creator']).sum().plot(kind='pie', y='goal_reached')"
   ]
  },
  {
   "cell_type": "code",
   "execution_count": null,
   "metadata": {},
   "outputs": [],
   "source": [
    "df_2020.groupby(['repeat_creator']).sum().plot(kind='pie', y='goal_reached')"
   ]
  },
  {
   "cell_type": "code",
   "execution_count": null,
   "metadata": {},
   "outputs": [],
   "source": [
    "df_2019.groupby(['goal_reached']).sum().plot(kind='pie', y='repeat_creator')"
   ]
  },
  {
   "cell_type": "code",
   "execution_count": null,
   "metadata": {},
   "outputs": [],
   "source": [
    "#create scatterplot for pledged amount and name length\n",
    "ax = sns.scatterplot(df_2020.pledge_per_backer, df_2020.usd_pledged_million, hue=df_2020.goal_reached, palette=colors)\n",
    "#set labels accordingly\n",
    "ax.set(xlabel='Funding per Backer', ylabel='Amount Pledged in Million', title =\"2020\")\n",
    "sns.set(rc={'figure.figsize':(7,4)})"
   ]
  },
  {
   "cell_type": "code",
   "execution_count": null,
   "metadata": {},
   "outputs": [],
   "source": [
    "#create scatterplot for pledged amount and name length\n",
    "ax = sns.scatterplot(df_2019.pledge_per_backer, df_2019.usd_pledged_million, hue=df_2019.goal_reached, palette=colors)\n",
    "#set labels accordingly\n",
    "ax.set(xlabel='Funding per Backer', ylabel='Amount Pledged in Million', title =\"2019\")\n",
    "sns.set(rc={'figure.figsize':(7,4)})"
   ]
  },
  {
   "cell_type": "code",
   "execution_count": null,
   "metadata": {},
   "outputs": [],
   "source": [
    "df1 = df_2019.groupby(['goal_reached','repeat_creator']).agg(Total_Pledge = ('usd_pledged_million', 'sum'))\n",
    "df1['Total_Pledge']=df1['Total_Pledge'].astype(int)\n",
    "df1"
   ]
  },
  {
   "cell_type": "code",
   "execution_count": null,
   "metadata": {},
   "outputs": [],
   "source": [
    "df_2019"
   ]
  },
  {
   "cell_type": "code",
   "execution_count": null,
   "metadata": {},
   "outputs": [],
   "source": [
    "df1['Total_Pledge'].plot.pie(autopct='%1.1f%%')\n",
    "figure(figsize=(20, 10), dpi=200)\n",
    "import matplotlib as mpl\n",
    "mpl.rcParams['font.size'] = 12.0"
   ]
  },
  {
   "cell_type": "code",
   "execution_count": null,
   "metadata": {},
   "outputs": [],
   "source": [
    "df2 = df_2020.groupby(['goal_reached','repeat_creator']).agg(Total_Pledge = ('usd_pledged_million', 'sum'))\n",
    "df2['Total_Pledge']=df2['Total_Pledge'].astype(int)\n",
    "df2"
   ]
  },
  {
   "cell_type": "code",
   "execution_count": null,
   "metadata": {},
   "outputs": [],
   "source": [
    "df2['Total_Pledge'].plot.pie(autopct='%1.1f%%')\n",
    "fig = matplotlib.pyplot.gcf()\n",
    "fig.set_size_inches(10,7)\n",
    "fig.savefig('test2png.png', dpi=50)\n",
    "import matplotlib as mpl\n",
    "mpl.rcParams['font.size'] = 12.0"
   ]
  },
  {
   "cell_type": "code",
   "execution_count": null,
   "metadata": {},
   "outputs": [],
   "source": [
    "df_2020"
   ]
  },
  {
   "cell_type": "code",
   "execution_count": null,
   "metadata": {},
   "outputs": [],
   "source": [
    "x1 = df_successful.loc[df_successful.Year== 2019, 'blurb_length']\n",
    "x2 = df_successful.loc[df_successful.Year== 2020, 'blurb_length']\n",
    "\n",
    "kwargs = dict(alpha=1, bins=20)\n",
    "\n",
    "plt.hist(x1, **kwargs, color='b', label='2019')\n",
    "plt.hist(x2, **kwargs, color='g', label='2020')\n",
    "plt.gca().set( ylabel='Frequency')\n",
    "plt.xlabel('Blurb Length')\n",
    "plt.xlim(1,180)\n",
    "plt.legend();\n",
    "mpl.rcParams['font.size'] = 15.0\n",
    "sns.set(rc={'figure.figsize':(15,8)})\n",
    "plt.title('Number of Characters in Blurb of Successful Projects in 2019 and 2020', fontsize = 13)"
   ]
  },
  {
   "cell_type": "code",
   "execution_count": null,
   "metadata": {},
   "outputs": [],
   "source": [
    "x1 = df_successful.loc[df_successful.Year== 2019, 'name_length']\n",
    "x2 = df_successful.loc[df_successful.Year== 2020, 'name_length']\n",
    "\n",
    "kwargs = dict(alpha=1, bins=20)\n",
    "\n",
    "plt.hist(x1, **kwargs, color='b', label='2019')\n",
    "plt.hist(x2, **kwargs, color='g', label='2020')\n",
    "plt.gca().set( ylabel='Frequency')\n",
    "plt.xlabel('Name Length')\n",
    "plt.xlim(1,80)\n",
    "plt.legend();\n",
    "mpl.rcParams['font.size'] = 15.0\n",
    "sns.set(rc={'figure.figsize':(15,8)})\n",
    "plt.title('Number of Characters in Title of Successful Projects in 2019 and 2020', fontsize = 16)"
   ]
  },
  {
   "cell_type": "code",
   "execution_count": null,
   "metadata": {},
   "outputs": [],
   "source": [
    "x1 = df_successful.loc[df_successful.Year== 2019, 'blurb_length']\n",
    "x2 = df_successful.loc[df_successful.Year== 2020, 'blurb_length']\n",
    "\n",
    "kwargs = dict(alpha=1, bins=20)\n",
    "\n",
    "plt.hist(x1, **kwargs, color='b', label='2019')\n",
    "plt.hist(x2, **kwargs, color='g', label='2020')\n",
    "plt.gca().set( ylabel='Frequency')\n",
    "plt.xlabel('Name Length')\n",
    "plt.xlim(1,180)\n",
    "plt.legend();\n",
    "mpl.rcParams['font.size'] = 15.0\n",
    "sns.set(rc={'figure.figsize':(15,8)})\n",
    "plt.title('Number of Characters in Blurb of Successful Projects in 2019 and 2020', fontsize = 16)"
   ]
  },
  {
   "cell_type": "code",
   "execution_count": null,
   "metadata": {},
   "outputs": [],
   "source": [
    "# crosstab\n",
    "pal = [\"lightblue\",\"dodgerblue\"]\n",
    "ax= pd.crosstab(df_2020['repeat_creator'], df_2020['goal_reached']).apply(lambda r: r/r.sum()*100, axis=1)\n",
    "ax_1 = ax.plot.bar(figsize=(5,5),stacked=True, rot=0, color=pal)\n",
    "display(ax)\n",
    "plt.title('Distribution of Projects with Repeat Creator in 2020', fontsize = 13)\n",
    "plt.legend(loc='upper center', bbox_to_anchor=(1.2, 1.0), title=\"Goal Reached\")\n",
    "\n",
    "plt.xlabel(\"Repeat Creator\")\n",
    "for rec in ax_1.patches:\n",
    "    height = rec.get_height()\n",
    "    ax_1.text(rec.get_x() + rec.get_width() / 2, \n",
    "              rec.get_y() + height / 2,\n",
    "              \"{:.0f}%\".format(height),\n",
    "              ha='center', \n",
    "              va='bottom')\n",
    "\n",
    "plt.show()"
   ]
  },
  {
   "cell_type": "code",
   "execution_count": null,
   "metadata": {},
   "outputs": [],
   "source": [
    "# crosstab\n",
    "pal = [\"orangered\",\"royalblue\"]\n",
    "ax= pd.crosstab(df['Year'], df['goal_reached']).apply(lambda r: r/r.sum()*100, axis=1)\n",
    "ax_1 = ax.plot.bar(figsize=(7,5),stacked=True, rot=0, color=pal)\n",
    "display(ax)\n",
    "plt.title('Distribution of Projects in 2019 and 2020', fontsize = 15)\n",
    "plt.legend(loc='upper center', bbox_to_anchor=(1.2, 1.0), title=\"Goal Reached\")\n",
    "\n",
    "plt.xlabel(\"Year\")\n",
    "for rec in ax_1.patches:\n",
    "    height = rec.get_height()\n",
    "    ax_1.text(rec.get_x() + rec.get_width() / 2, \n",
    "              rec.get_y() + height / 2,\n",
    "              \"{:.0f}%\".format(height),\n",
    "              ha='center', \n",
    "              va='bottom')\n",
    "\n",
    "plt.show()"
   ]
  },
  {
   "cell_type": "code",
   "execution_count": null,
   "metadata": {},
   "outputs": [],
   "source": [
    "# crosstab\n",
    "pal = [\"lightblue\",\"dodgerblue\"]\n",
    "ax= pd.crosstab(df_2020['staff_pick'], df_2020['goal_reached']).apply(lambda r: r/r.sum()*100, axis=1)\n",
    "ax_1 = ax.plot.bar(figsize=(5,5),stacked=True, rot=0, color=pal)\n",
    "display(ax)\n",
    "plt.title('Distribution of Projects Picked by Staff in 2020', fontsize = 13)\n",
    "plt.legend(loc='upper center', bbox_to_anchor=(1.2, 1.0), title=\"Goal Reached\")\n",
    "\n",
    "plt.xlabel(\"Picked by Staff\")\n",
    "for rec in ax_1.patches:\n",
    "    height = rec.get_height()\n",
    "    ax_1.text(rec.get_x() + rec.get_width() / 2, \n",
    "              rec.get_y() + height / 2,\n",
    "              \"{:.0f}%\".format(height),\n",
    "              ha='center', \n",
    "              va='bottom')\n",
    "\n",
    "plt.show()"
   ]
  },
  {
   "cell_type": "code",
   "execution_count": null,
   "metadata": {},
   "outputs": [],
   "source": [
    "# crosstab\n",
    "pal = [\"lightblue\",\"dodgerblue\"]\n",
    "ax= pd.crosstab(df_2019['repeat_creator'], df_2019['goal_reached']).apply(lambda r: r/r.sum()*100, axis=1)\n",
    "ax_1 = ax.plot.bar(figsize=(5,5),stacked=True, rot=0, color=pal)\n",
    "display(ax)\n",
    "plt.title('Distribution of Projects with Repeat Creator in 2019', fontsize = 13)\n",
    "plt.ylabel('Success/ Failure Project Distribution')\n",
    "plt.xlabel(\"Repeat Creator\")\n",
    "for rec in ax_1.patches:\n",
    "    height = rec.get_height()\n",
    "    ax_1.text(rec.get_x() + rec.get_width() / 2, \n",
    "              rec.get_y() + height / 2,\n",
    "              \"{:.0f}%\".format(height),\n",
    "              ha='center', \n",
    "              va='bottom')\n",
    "plt.legend('',frameon=False)\n",
    "plt.show()"
   ]
  },
  {
   "cell_type": "code",
   "execution_count": null,
   "metadata": {},
   "outputs": [],
   "source": [
    "# crosstab\n",
    "pal = [\"lightblue\",\"dodgerblue\"]\n",
    "ax= pd.crosstab(df_2019['staff_pick'], df_2019['goal_reached']).apply(lambda r: r/r.sum()*100, axis=1)\n",
    "ax_1 = ax.plot.bar(figsize=(5,5),stacked=True, rot=0, color=pal)\n",
    "display(ax)\n",
    "plt.title('Distribution of Projects Picked by Staff in 2019', fontsize = 13)\n",
    "plt.ylabel('Success/ Failure Project Distribution')\n",
    "plt.xlabel(\"Picked by Staff\")\n",
    "for rec in ax_1.patches:\n",
    "    height = rec.get_height()\n",
    "    ax_1.text(rec.get_x() + rec.get_width() / 2, \n",
    "              rec.get_y() + height / 2,\n",
    "              \"{:.0f}%\".format(height),\n",
    "              ha='center', \n",
    "              va='bottom')\n",
    "plt.legend('',frameon=False)\n",
    "plt.show()"
   ]
  },
  {
   "cell_type": "code",
   "execution_count": null,
   "metadata": {},
   "outputs": [],
   "source": [
    "# crosstab\n",
    "pal = [\"lightblue\",\"dodgerblue\"]\n",
    "ax= pd.crosstab(df['repeat_creator'], df_2019['goal_reached']).apply(lambda r: r/r.sum()*100, axis=1)\n",
    "ax_1 = ax.plot.bar(figsize=(17,7),stacked=True, rot=0, color=pal)\n",
    "display(ax)\n",
    "\n",
    "plt.legend(loc='upper center', bbox_to_anchor=(0.1, 1.0), title=\"Categories\")\n",
    "\n",
    "plt.xlabel('Repeat Creator')\n",
    "plt.ylabel('Success/ Failure Rate Distribution')\n",
    "\n",
    "for rec in ax_1.patches:\n",
    "    height = rec.get_height()\n",
    "    ax_1.text(rec.get_x() + rec.get_width() / 2, \n",
    "              rec.get_y() + height / 2,\n",
    "              \"{:.0f}%\".format(height),\n",
    "              ha='center', \n",
    "              va='bottom')\n",
    "\n",
    "plt.show()"
   ]
  },
  {
   "cell_type": "code",
   "execution_count": null,
   "metadata": {},
   "outputs": [],
   "source": [
    "%pylab inline\n",
    "import pandas as pd\n",
    "import matplotlib.pyplot as plt\n",
    "\n",
    "df2 = df.groupby(['overarching_category', 'goal_reached'])['overarching_category'].count().unstack('goal_reached').fillna(0)\n",
    "df2[[1,0]].plot(kind='bar', stacked=True, figsize=(15, 5))"
   ]
  },
  {
   "cell_type": "code",
   "execution_count": null,
   "metadata": {},
   "outputs": [],
   "source": [
    "%pylab inline\n",
    "import pandas as pd\n",
    "import matplotlib.pyplot as plt\n",
    "\n",
    "df3 = df_2019.groupby(['repeat_creator', 'goal_reached'])['repeat_creator'].count().unstack('goal_reached').fillna(0)\n",
    "df3[[1,0]].plot(kind='bar', stacked=True, figsize=(15, 5))"
   ]
  },
  {
   "cell_type": "code",
   "execution_count": null,
   "metadata": {},
   "outputs": [],
   "source": [
    "sns.stripplot(x=\"Year\",y=\"name_length\",data=df,jitter=True,hue='goal_reached',palette='Set1')\n",
    "plt.title('Association of Number of Character in Title and Success of Project', fontsize = 14)\n",
    "plt.xlabel('Year', fontsize = 12) # x-axis label with fontsize 15\n",
    "plt.ylabel('Number of Characters in Title', fontsize = 12)"
   ]
  },
  {
   "cell_type": "code",
   "execution_count": null,
   "metadata": {},
   "outputs": [],
   "source": [
    "sns.stripplot(x=\"Year\",y=\"name_caps\",data=df,jitter=True,hue='goal_reached',palette='Set1')\n",
    "plt.title('Association of Number of Character in Title and Success of Project', fontsize = 14)\n",
    "plt.xlabel('Year', fontsize = 12) # x-axis label with fontsize 15\n",
    "plt.ylabel('Number of Characters in Title', fontsize = 12)"
   ]
  },
  {
   "cell_type": "code",
   "execution_count": null,
   "metadata": {},
   "outputs": [],
   "source": [
    "%pylab inline\n",
    "import pandas as pd\n",
    "import matplotlib.pyplot as plt\n",
    "\n",
    "df2 = df_2019.groupby(['name_caps', 'goal_reached'])['name_caps'].count().unstack('goal_reached').fillna(0)\n",
    "df2[[1,0]].plot(kind='bar', stacked=True, figsize=(15, 5))"
   ]
  },
  {
   "cell_type": "code",
   "execution_count": null,
   "metadata": {},
   "outputs": [],
   "source": [
    "x1 = df_successful.loc[df_successful.Year== 2019, 'duration_days']\n",
    "x2 = df_successful.loc[df_successful.Year== 2020, 'duration_days']\n",
    "\n",
    "kwargs = dict(alpha=1, bins=50)\n",
    "\n",
    "plt.hist(x1, **kwargs, color='b', label='2019')\n",
    "plt.hist(x2, **kwargs, color='g', label='2020')\n",
    "plt.gca().set( ylabel='Frequency')\n",
    "plt.xlabel('Name Length')\n",
    "plt.xlim(1,1500)\n",
    "plt.legend();\n",
    "mpl.rcParams['font.size'] = 15.0\n",
    "sns.set(rc={'figure.figsize':(15,8)})\n",
    "plt.title('Number of Characters in Title of Successful Projects in 2019 and 2020', fontsize = 16)"
   ]
  },
  {
   "cell_type": "code",
   "execution_count": null,
   "metadata": {},
   "outputs": [],
   "source": [
    "df_2019['usd_pledged_million'].describe()"
   ]
  },
  {
   "cell_type": "code",
   "execution_count": null,
   "metadata": {},
   "outputs": [],
   "source": [
    "df_2020['usd_pledged_million'].describe()"
   ]
  },
  {
   "cell_type": "code",
   "execution_count": null,
   "metadata": {},
   "outputs": [],
   "source": [
    "sns.stripplot(x=\"Year\",y=\"blurb_length\",data=df,jitter=True,hue='goal_reached',palette='Set1')\n",
    "plt.title('Association of Number of Character in Blurb and Success of Project', fontsize = 14)\n",
    "plt.xlabel('Year', fontsize = 12) # x-axis label with fontsize 15\n",
    "plt.ylabel('Number of Characters in Blurb', fontsize = 13)\n",
    "sns.set(rc={'figure.figsize':(10,7)})"
   ]
  },
  {
   "cell_type": "code",
   "execution_count": null,
   "metadata": {},
   "outputs": [],
   "source": [
    "x1 = df_2019.loc[df_2019.goal_reached== 1, 'name_caps']\n",
    "x2 = df_2019.loc[df_2019.goal_reached== 0, 'name_caps']\n",
    "\n",
    "kwargs = dict(alpha=1, bins=30)\n",
    "\n",
    "plt.hist(x1, **kwargs, color='g', label='Successful')\n",
    "plt.hist(x2, **kwargs, color='r', label='Failed')\n",
    "plt.gca().set( ylabel='Frequency')\n",
    "plt.xlabel('Number of Capitalized Characters')\n",
    "plt.xlim(1,30)\n",
    "plt.legend();\n",
    "mpl.rcParams['font.size'] = 15.0\n",
    "sns.set(rc={'figure.figsize':(7,4)})\n",
    "plt.title('Number of Capitalized Characters in Title of Projects in 2019', fontsize = 13)"
   ]
  },
  {
   "cell_type": "code",
   "execution_count": null,
   "metadata": {},
   "outputs": [],
   "source": [
    "x1 = df_2020.loc[df_2020.goal_reached== 1, 'name_caps']\n",
    "x2 = df_2020.loc[df_2020.goal_reached== 0, 'name_caps']\n",
    "\n",
    "kwargs = dict(alpha=1, bins=30)\n",
    "\n",
    "plt.hist(x1, **kwargs, color='g', label='Successful')\n",
    "plt.hist(x2, **kwargs, color='r', label='Failed')\n",
    "plt.xlabel('Number of Capitalized Characters')\n",
    "plt.xlim(1,30)\n",
    "plt.legend();\n",
    "mpl.rcParams['font.size'] = 15.0\n",
    "sns.set(rc={'figure.figsize':(7,4)})\n",
    "plt.title('Number of Capitalized Characters in Title of Projects in 2020', fontsize = 13)"
   ]
  },
  {
   "cell_type": "code",
   "execution_count": null,
   "metadata": {},
   "outputs": [],
   "source": [
    "x1 = df_2019.loc[df_2019.goal_reached== 1, 'blurb_caps']\n",
    "x2 = df_2019.loc[df_2019.goal_reached== 0, 'blurb_caps']\n",
    "\n",
    "kwargs = dict(alpha=1, bins=50)\n",
    "\n",
    "plt.hist(x1, **kwargs, color='g', label='Successful')\n",
    "plt.hist(x2, **kwargs, color='r', label='Failed')\n",
    "plt.gca().set( ylabel='Frequency')\n",
    "plt.xlabel('Number of Capitalized Characters')\n",
    "plt.xlim(1,30)\n",
    "plt.legend();\n",
    "mpl.rcParams['font.size'] = 15.0\n",
    "sns.set(rc={'figure.figsize':(7,4)})\n",
    "plt.title('Number of Capitalized Characters in Blurb of Projects in 2019', fontsize = 13)"
   ]
  },
  {
   "cell_type": "code",
   "execution_count": null,
   "metadata": {},
   "outputs": [],
   "source": [
    "x1 = df_2020.loc[df_2020.goal_reached== 1, 'blurb_caps']\n",
    "x2 = df_2020.loc[df_2020.goal_reached== 0, 'blurb_caps']\n",
    "\n",
    "kwargs = dict(alpha=1, bins=50)\n",
    "\n",
    "plt.hist(x1, **kwargs, color='g', label='Successful')\n",
    "plt.hist(x2, **kwargs, color='r', label='Failed')\n",
    "plt.xlabel('Number of Capitalized Characters')\n",
    "plt.xlim(1,30)\n",
    "plt.legend();\n",
    "mpl.rcParams['font.size'] = 15.0\n",
    "sns.set(rc={'figure.figsize':(7,4)})\n",
    "plt.title('Number of Capitalized Characters in Blurb of Projects in 2020', fontsize = 13)"
   ]
  },
  {
   "cell_type": "code",
   "execution_count": null,
   "metadata": {},
   "outputs": [],
   "source": [
    "x1 = df.loc[df.Year== 2019, 'name_caps']\n",
    "x2 = df.loc[df.Year== 2020, 'name_caps']\n",
    "\n",
    "kwargs = dict(alpha=1, bins=35)\n",
    "\n",
    "plt.hist(x1, **kwargs, color='b', label='2019')\n",
    "plt.hist(x2, **kwargs, color='g', label='2020')\n",
    "plt.gca().set( ylabel='Count')\n",
    "plt.xlabel('Name Caps')\n",
    "plt.xlim(1,35)\n",
    "plt.legend();\n",
    "mpl.rcParams['font.size'] = 15.0\n",
    "sns.set(rc={'figure.figsize':(15,8)})\n",
    "plt.title('Number of Capitalized Characters in Title', fontsize = 16)"
   ]
  },
  {
   "cell_type": "code",
   "execution_count": null,
   "metadata": {},
   "outputs": [],
   "source": [
    "x1 = df.loc[df.Year== 2019, 'blurb_caps']\n",
    "x2 = df.loc[df.Year== 2020, 'blurb_caps']\n",
    "\n",
    "kwargs = dict(alpha=1, bins=50)\n",
    "\n",
    "plt.hist(x1, **kwargs, color='b', label='2019')\n",
    "plt.hist(x2, **kwargs, color='g', label='2020')\n",
    "plt.gca().set( ylabel='Count')\n",
    "plt.xlabel('Name Caps')\n",
    "plt.xlim(1,35)\n",
    "plt.legend();\n",
    "mpl.rcParams['font.size'] = 15.0\n",
    "sns.set(rc={'figure.figsize':(15,8)})\n",
    "plt.title('Number of Capitalized Characters in Blurb', fontsize = 16)"
   ]
  },
  {
   "cell_type": "code",
   "execution_count": null,
   "metadata": {},
   "outputs": [],
   "source": [
    "df_plot_1 = df_2019.groupby('overarching_category')['Year'].count()\n",
    "df_plot_1"
   ]
  },
  {
   "cell_type": "code",
   "execution_count": null,
   "metadata": {},
   "outputs": [],
   "source": [
    "df_plot_2 = df_2020.groupby('overarching_category')['Year'].count()\n",
    "df_plot_2"
   ]
  },
  {
   "cell_type": "code",
   "execution_count": null,
   "metadata": {},
   "outputs": [],
   "source": [
    "pivot = df.pivot_table(index=['overarching_category'], values=['id'], aggfunc='count')\n",
    "pivot"
   ]
  },
  {
   "cell_type": "code",
   "execution_count": null,
   "metadata": {},
   "outputs": [],
   "source": [
    "ordered_df = pivot.sort_values(by='overarching_category')\n",
    "my_range=range(1,len(pivot.index)+1)\n",
    "ordered_df"
   ]
  },
  {
   "cell_type": "code",
   "execution_count": null,
   "metadata": {},
   "outputs": [],
   "source": [
    "plt.hlines(y=my_range, xmin=df_successful[2020], xmax=df_successful[2019], color='grey', alpha=1)\n",
    "plt.scatter(df_successful[2020], my_range, color='navy', alpha=1, label=2019)\n",
    "plt.scatter(df_successful[2019], my_range, color='gold', alpha=1 , label=2020)\n",
    "plt.legend()\n",
    "\n",
    "# Add title and axis names\n",
    "plt.yticks(my_range, pivot['Year'])\n",
    "plt.title(\"Comparison of the Wages Position and League Position\", loc='left')\n",
    "plt.xlabel('Value of the Positions')\n",
    "plt.ylabel('Category')"
   ]
  },
  {
   "cell_type": "code",
   "execution_count": null,
   "metadata": {},
   "outputs": [],
   "source": [
    "pivot = df.pivot_table(values='id', index=['overarching_category'], columns='Year', aggfunc='count')\n",
    "pivot"
   ]
  },
  {
   "cell_type": "code",
   "execution_count": null,
   "metadata": {},
   "outputs": [],
   "source": [
    "import pandas as pd\n",
    "import plotly.express as px\n",
    "\n",
    "fig = px.scatter(df, x=['2019','2020'], y='overarching_category', labels={'variable':'gender'})\n",
    "fig.update_layout(title_text = \"Gender earnings disparity\",\n",
    "    xaxis_title = \"Annual Salary (in thousands)\",\n",
    "    margin_l = 65)\n",
    "for i in range(df.shape[0]):\n",
    "    fig.add_shape(\n",
    "        type='line',\n",
    "        x0=df['Women'].iloc[i], y0=df['School'].iloc[i], \n",
    "        x1=df['Men'].iloc[i], y1=df['School'].iloc[i],\n",
    "        line_color=\"#cccccc\"\n",
    "    )\n",
    "fig.show()"
   ]
  },
  {
   "cell_type": "code",
   "execution_count": null,
   "metadata": {},
   "outputs": [],
   "source": []
  }
 ],
 "metadata": {
  "kernelspec": {
   "display_name": "Python 3",
   "language": "python",
   "name": "python3"
  },
  "language_info": {
   "codemirror_mode": {
    "name": "ipython",
    "version": 3
   },
   "file_extension": ".py",
   "mimetype": "text/x-python",
   "name": "python",
   "nbconvert_exporter": "python",
   "pygments_lexer": "ipython3",
   "version": "3.8.3"
  }
 },
 "nbformat": 4,
 "nbformat_minor": 4
}
